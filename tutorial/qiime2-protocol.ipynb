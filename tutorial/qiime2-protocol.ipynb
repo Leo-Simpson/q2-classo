{
 "cells": [
  {
   "cell_type": "markdown",
   "metadata": {
    "ExecuteTime": {
     "end_time": "2020-10-28T18:43:30.845698Z",
     "start_time": "2020-10-28T18:43:30.810311Z"
    }
   },
   "source": [
    "# QIIME 2 enables comprehensive end-to-end analysis of diverse microbiome data and comparative studies with publicly available data\n",
    "\n",
    "this is a QIIME 2 Artifact CLI notebook which replicated analyses in the QIIME 2 protocol\n",
    "\n",
    "**environment:** qiime2-2020.8"
   ]
  },
  {
   "cell_type": "markdown",
   "metadata": {},
   "source": [
    "## Upload data"
   ]
  },
  {
   "cell_type": "code",
   "execution_count": null,
   "metadata": {},
   "outputs": [],
   "source": []
  },
  {
   "cell_type": "markdown",
   "metadata": {},
   "source": [
    "## Taxonomic classification"
   ]
  },
  {
   "cell_type": "code",
   "execution_count": null,
   "metadata": {},
   "outputs": [],
   "source": []
  },
  {
   "cell_type": "markdown",
   "metadata": {},
   "source": [
    "## log-contrast processing"
   ]
  },
  {
   "cell_type": "code",
   "execution_count": null,
   "metadata": {},
   "outputs": [],
   "source": [
    "!qiime classo features-clr \\\n",
    "    --i-features randomx.qza \\\n",
    "    --o-x xclr.qza"
   ]
  },
  {
   "cell_type": "markdown",
   "metadata": {},
   "source": [
    "## Tree aggregation"
   ]
  },
  {
   "cell_type": "code",
   "execution_count": null,
   "metadata": {},
   "outputs": [],
   "source": [
    "!qiime classo add-taxa \\\n",
    "    --i-features xclr.qza \\\n",
    "    --i-taxa taxonomy.qza \\\n",
    "    --i-c randomc.qza \\\n",
    "    --o-x xtaxa.qza \\\n",
    "    --o-ca ctaxa.qza"
   ]
  },
  {
   "cell_type": "markdown",
   "metadata": {},
   "source": [
    "## Regression tasks"
   ]
  },
  {
   "cell_type": "markdown",
   "metadata": {},
   "source": [
    "Split data into training and testing sets : "
   ]
  },
  {
   "cell_type": "code",
   "execution_count": null,
   "metadata": {},
   "outputs": [],
   "source": [
    "!qiime sample-classifier split-table \\\n",
    "    --i-table xtaxa.qza \\\n",
    "    --m-metadata-file sample-metadata-complete.tsv \\\n",
    "    --m-metadata-column sCD14  \\\n",
    "    --p-test-size 0.2 \\\n",
    "    --p-random-state 123 \\\n",
    "    --p-stratify False \\\n",
    "    --o-training-table xtraining \\\n",
    "    --o-test-table xtest"
   ]
  },
  {
   "cell_type": "markdown",
   "metadata": {},
   "source": [
    "Apply classo to the training set to solve the linear regression problem : "
   ]
  },
  {
   "cell_type": "code",
   "execution_count": null,
   "metadata": {},
   "outputs": [],
   "source": [
    "!qiime classo regress  \\\n",
    "    --i-features xtraining.qza \\\n",
    "    --i-c ctaxa.qza \\\n",
    "    --m-y-file sample-metadata-complete.tsv \\\n",
    "    --m-y-column sCD14  \\\n",
    "    --p-concomitant False \\\n",
    "    --p-stabsel-threshold 0.5 \\\n",
    "    --p-cv-seed 123456 \\\n",
    "    --p-cv-one-se False \\\n",
    "    --o-result problemtaxa"
   ]
  },
  {
   "cell_type": "markdown",
   "metadata": {},
   "source": [
    "Compute the prediction on the testing set, for each model selection chosen :"
   ]
  },
  {
   "cell_type": "code",
   "execution_count": null,
   "metadata": {},
   "outputs": [],
   "source": [
    "!qiime classo predict \\\n",
    "    --i-features xtest.qza \\\n",
    "    --i-problem problemtaxa.qza \\\n",
    "    --o-predictions predictions.qza"
   ]
  },
  {
   "cell_type": "markdown",
   "metadata": {},
   "source": [
    "## Visualization"
   ]
  },
  {
   "cell_type": "code",
   "execution_count": null,
   "metadata": {},
   "outputs": [],
   "source": [
    "!qiime classo summarize \\\n",
    "    --i-problem problemtaxa.qza \\\n",
    "    --i-taxa taxonomy.qza \\\n",
    "    --i-predictions predictions.qza \\\n",
    "    --o-visualization problemtaxa.qzv"
   ]
  },
  {
   "cell_type": "code",
   "execution_count": null,
   "metadata": {},
   "outputs": [],
   "source": [
    "!qiime tools view problemtaxa.qzv"
   ]
  },
  {
   "cell_type": "markdown",
   "metadata": {},
   "source": [
    "Alternatively, one can drag&drop the file problemtaxa.qzv on : https://view.qiime2.org\n",
    "Thanks to this alternative, one can also track the workflow that the qiime2 artifact did. "
   ]
  }
 ],
 "metadata": {
  "kernelspec": {
   "display_name": "Python 3",
   "language": "python",
   "name": "python3"
  },
  "language_info": {
   "codemirror_mode": {
    "name": "ipython",
    "version": 3
   },
   "file_extension": ".py",
   "mimetype": "text/x-python",
   "name": "python",
   "nbconvert_exporter": "python",
   "pygments_lexer": "ipython3",
   "version": "3.6.8"
  },
  "toc": {
   "base_numbering": 1,
   "nav_menu": {},
   "number_sections": true,
   "sideBar": true,
   "skip_h1_title": false,
   "title_cell": "Table of Contents",
   "title_sidebar": "Contents",
   "toc_cell": false,
   "toc_position": {},
   "toc_section_display": true,
   "toc_window_display": false
  }
 },
 "nbformat": 4,
 "nbformat_minor": 4
}
