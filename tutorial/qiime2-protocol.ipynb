{
 "cells": [
  {
   "cell_type": "markdown",
   "metadata": {
    "ExecuteTime": {
     "end_time": "2020-11-06T08:22:14.807224Z",
     "start_time": "2020-11-06T08:22:14.697114Z"
    }
   },
   "source": [
    "# QIIME 2 enables comprehensive end-to-end analysis of diverse microbiome data and comparative studies with publicly available data\n",
    "\n",
    "this is a QIIME 2 Artifact CLI notebook which replicated analyses in the QIIME 2 protocol\n",
    "\n",
    "**environment:** qiime2-2020.2"
   ]
  },
  {
   "cell_type": "markdown",
   "metadata": {},
   "source": [
    "Use this version of [q2-classo](https://github.com/Leo-Simpson/q2-classo/tree/edbf9d20fed931cbc1cff77f5634bb0dcd783c8a) "
   ]
  },
  {
   "cell_type": "code",
   "execution_count": 1,
   "metadata": {
    "ExecuteTime": {
     "end_time": "2021-09-20T13:56:34.818843Z",
     "start_time": "2021-09-20T13:56:31.042494Z"
    },
    "scrolled": true
   },
   "outputs": [
    {
     "name": "stdout",
     "output_type": "stream",
     "text": [
      "Collecting c-lasso\n",
      "  Downloading c_lasso-1.0.11-py3-none-any.whl (56 kB)\n",
      "\u001b[K     |████████████████████████████████| 56 kB 934 kB/s eta 0:00:01\n",
      "\u001b[?25hRequirement already satisfied: h5py in /opt/conda/envs/qiime2-2021.4/lib/python3.8/site-packages (from c-lasso) (3.2.1)\n",
      "Requirement already satisfied: scipy in /opt/conda/envs/qiime2-2021.4/lib/python3.8/site-packages (from c-lasso) (1.6.2)\n",
      "Requirement already satisfied: numpy in /opt/conda/envs/qiime2-2021.4/lib/python3.8/site-packages (from c-lasso) (1.20.2)\n",
      "Installing collected packages: c-lasso\n",
      "Successfully installed c-lasso-1.0.11\n",
      "Note: you may need to restart the kernel to use updated packages.\n"
     ]
    }
   ],
   "source": [
    "pip install --upgrade c-lasso"
   ]
  },
  {
   "cell_type": "code",
   "execution_count": 3,
   "metadata": {},
   "outputs": [
    {
     "name": "stdout",
     "output_type": "stream",
     "text": [
      "Requirement already satisfied: c-lasso in /opt/conda/envs/qiime2-2021.4/lib/python3.8/site-packages (1.0.11)\n",
      "Requirement already satisfied: scipy in /opt/conda/envs/qiime2-2021.4/lib/python3.8/site-packages (from c-lasso) (1.6.2)\n",
      "Requirement already satisfied: h5py in /opt/conda/envs/qiime2-2021.4/lib/python3.8/site-packages (from c-lasso) (3.2.1)\n",
      "Requirement already satisfied: numpy in /opt/conda/envs/qiime2-2021.4/lib/python3.8/site-packages (from c-lasso) (1.20.2)\n",
      "Note: you may need to restart the kernel to use updated packages.\n"
     ]
    }
   ],
   "source": [
    "pip install c-lasso"
   ]
  },
  {
   "cell_type": "code",
   "execution_count": 4,
   "metadata": {},
   "outputs": [
    {
     "name": "stdout",
     "output_type": "stream",
     "text": [
      "Requirement already satisfied: zarr in /opt/conda/envs/qiime2-2021.4/lib/python3.8/site-packages (2.10.0)\n",
      "Requirement already satisfied: numpy>=1.7 in /opt/conda/envs/qiime2-2021.4/lib/python3.8/site-packages (from zarr) (1.20.2)\n",
      "Requirement already satisfied: asciitree in /opt/conda/envs/qiime2-2021.4/lib/python3.8/site-packages (from zarr) (0.3.3)\n",
      "Requirement already satisfied: numcodecs>=0.6.4 in /opt/conda/envs/qiime2-2021.4/lib/python3.8/site-packages (from zarr) (0.9.1)\n",
      "Requirement already satisfied: fasteners in /opt/conda/envs/qiime2-2021.4/lib/python3.8/site-packages (from zarr) (0.16.3)\n",
      "Requirement already satisfied: six in /opt/conda/envs/qiime2-2021.4/lib/python3.8/site-packages (from fasteners->zarr) (1.15.0)\n",
      "Note: you may need to restart the kernel to use updated packages.\n"
     ]
    }
   ],
   "source": [
    "pip install zarr"
   ]
  },
  {
   "cell_type": "code",
   "execution_count": 5,
   "metadata": {},
   "outputs": [
    {
     "name": "stdout",
     "output_type": "stream",
     "text": [
      "Requirement already satisfied: plotly in /opt/conda/envs/qiime2-2021.4/lib/python3.8/site-packages (5.3.1)\n",
      "Requirement already satisfied: six in /opt/conda/envs/qiime2-2021.4/lib/python3.8/site-packages (from plotly) (1.15.0)\n",
      "Requirement already satisfied: tenacity>=6.2.0 in /opt/conda/envs/qiime2-2021.4/lib/python3.8/site-packages (from plotly) (8.0.1)\n",
      "Note: you may need to restart the kernel to use updated packages.\n"
     ]
    }
   ],
   "source": [
    "pip install plotly"
   ]
  },
  {
   "cell_type": "code",
   "execution_count": 2,
   "metadata": {
    "ExecuteTime": {
     "end_time": "2020-11-06T09:11:30.793410Z",
     "start_time": "2020-11-06T09:11:27.713906Z"
    },
    "collapsed": true,
    "deletable": false,
    "editable": false,
    "jupyter": {
     "outputs_hidden": true
    },
    "run_control": {
     "frozen": true
    },
    "tags": []
   },
   "outputs": [
    {
     "ename": "SyntaxError",
     "evalue": "invalid syntax (<ipython-input-2-4d321bd1b920>, line 1)",
     "output_type": "error",
     "traceback": [
      "\u001b[0;36m  File \u001b[0;32m\"<ipython-input-2-4d321bd1b920>\"\u001b[0;36m, line \u001b[0;32m1\u001b[0m\n\u001b[0;31m    pip install c-lasso\u001b[0m\n\u001b[0m        ^\u001b[0m\n\u001b[0;31mSyntaxError\u001b[0m\u001b[0;31m:\u001b[0m invalid syntax\n"
     ]
    }
   ],
   "source": [
    "pip install c-lasso\n",
    "\n",
    "pip install zarr\n",
    "\n",
    "pip install plotly"
   ]
  },
  {
   "cell_type": "code",
   "execution_count": 7,
   "metadata": {
    "ExecuteTime": {
     "end_time": "2021-09-20T13:56:36.090622Z",
     "start_time": "2021-09-20T13:56:35.977046Z"
    }
   },
   "outputs": [
    {
     "name": "stdout",
     "output_type": "stream",
     "text": [
      "/data\n"
     ]
    }
   ],
   "source": [
    "cd .."
   ]
  },
  {
   "cell_type": "code",
   "execution_count": 8,
   "metadata": {},
   "outputs": [
    {
     "name": "stdout",
     "output_type": "stream",
     "text": [
      "running install\n",
      "running bdist_egg\n",
      "running egg_info\n",
      "writing q2_classo.egg-info/PKG-INFO\n",
      "writing dependency_links to q2_classo.egg-info/dependency_links.txt\n",
      "writing entry points to q2_classo.egg-info/entry_points.txt\n",
      "writing top-level names to q2_classo.egg-info/top_level.txt\n",
      "reading manifest file 'q2_classo.egg-info/SOURCES.txt'\n",
      "writing manifest file 'q2_classo.egg-info/SOURCES.txt'\n",
      "installing library code to build/bdist.linux-x86_64/egg\n",
      "running install_lib\n",
      "running build_py\n",
      "creating build/bdist.linux-x86_64\n",
      "creating build/bdist.linux-x86_64/egg\n",
      "creating build/bdist.linux-x86_64/egg/q2_classo\n",
      "copying build/lib/q2_classo/_dict.py -> build/bdist.linux-x86_64/egg/q2_classo\n",
      "copying build/lib/q2_classo/_tree.py -> build/bdist.linux-x86_64/egg/q2_classo\n",
      "creating build/bdist.linux-x86_64/egg/q2_classo/.ipynb_checkpoints\n",
      "copying build/lib/q2_classo/.ipynb_checkpoints/_func-checkpoint.py -> build/bdist.linux-x86_64/egg/q2_classo/.ipynb_checkpoints\n",
      "creating build/bdist.linux-x86_64/egg/q2_classo/_summarize\n",
      "copying build/lib/q2_classo/_summarize/_visualizer.py -> build/bdist.linux-x86_64/egg/q2_classo/_summarize\n",
      "creating build/bdist.linux-x86_64/egg/q2_classo/_summarize/form\n",
      "copying build/lib/q2_classo/_summarize/form/R2.png -> build/bdist.linux-x86_64/egg/q2_classo/_summarize/form\n",
      "copying build/lib/q2_classo/_summarize/form/R4.png -> build/bdist.linux-x86_64/egg/q2_classo/_summarize/form\n",
      "copying build/lib/q2_classo/_summarize/form/R3.png -> build/bdist.linux-x86_64/egg/q2_classo/_summarize/form\n",
      "copying build/lib/q2_classo/_summarize/form/R1.png -> build/bdist.linux-x86_64/egg/q2_classo/_summarize/form\n",
      "copying build/lib/q2_classo/_summarize/form/C2.png -> build/bdist.linux-x86_64/egg/q2_classo/_summarize/form\n",
      "copying build/lib/q2_classo/_summarize/form/C1.png -> build/bdist.linux-x86_64/egg/q2_classo/_summarize/form\n",
      "copying build/lib/q2_classo/_summarize/__init__.py -> build/bdist.linux-x86_64/egg/q2_classo/_summarize\n",
      "creating build/bdist.linux-x86_64/egg/q2_classo/_summarize/assets\n",
      "copying build/lib/q2_classo/_summarize/assets/cv.html -> build/bdist.linux-x86_64/egg/q2_classo/_summarize/assets\n",
      "copying build/lib/q2_classo/_summarize/assets/path.html -> build/bdist.linux-x86_64/egg/q2_classo/_summarize/assets\n",
      "copying build/lib/q2_classo/_summarize/assets/lam-fixed.html -> build/bdist.linux-x86_64/egg/q2_classo/_summarize/assets\n",
      "copying build/lib/q2_classo/_summarize/assets/overview.html -> build/bdist.linux-x86_64/egg/q2_classo/_summarize/assets\n",
      "copying build/lib/q2_classo/_summarize/assets/stabsel.html -> build/bdist.linux-x86_64/egg/q2_classo/_summarize/assets\n",
      "copying build/lib/q2_classo/_summarize/assets/index.html -> build/bdist.linux-x86_64/egg/q2_classo/_summarize/assets\n",
      "copying build/lib/q2_classo/_func.py -> build/bdist.linux-x86_64/egg/q2_classo\n",
      "copying build/lib/q2_classo/plugin_setup.py -> build/bdist.linux-x86_64/egg/q2_classo\n",
      "copying build/lib/q2_classo/_formats.py -> build/bdist.linux-x86_64/egg/q2_classo\n",
      "copying build/lib/q2_classo/__init__.py -> build/bdist.linux-x86_64/egg/q2_classo\n",
      "copying build/lib/q2_classo/citations.bib -> build/bdist.linux-x86_64/egg/q2_classo\n",
      "byte-compiling build/bdist.linux-x86_64/egg/q2_classo/_dict.py to _dict.cpython-38.pyc\n",
      "byte-compiling build/bdist.linux-x86_64/egg/q2_classo/_tree.py to _tree.cpython-38.pyc\n",
      "byte-compiling build/bdist.linux-x86_64/egg/q2_classo/.ipynb_checkpoints/_func-checkpoint.py to _func-checkpoint.cpython-38.pyc\n",
      "byte-compiling build/bdist.linux-x86_64/egg/q2_classo/_summarize/_visualizer.py to _visualizer.cpython-38.pyc\n",
      "byte-compiling build/bdist.linux-x86_64/egg/q2_classo/_summarize/__init__.py to __init__.cpython-38.pyc\n",
      "byte-compiling build/bdist.linux-x86_64/egg/q2_classo/_func.py to _func.cpython-38.pyc\n",
      "byte-compiling build/bdist.linux-x86_64/egg/q2_classo/plugin_setup.py to plugin_setup.cpython-38.pyc\n",
      "byte-compiling build/bdist.linux-x86_64/egg/q2_classo/_formats.py to _formats.cpython-38.pyc\n",
      "byte-compiling build/bdist.linux-x86_64/egg/q2_classo/__init__.py to __init__.cpython-38.pyc\n",
      "creating build/bdist.linux-x86_64/egg/EGG-INFO\n",
      "copying q2_classo.egg-info/PKG-INFO -> build/bdist.linux-x86_64/egg/EGG-INFO\n",
      "copying q2_classo.egg-info/SOURCES.txt -> build/bdist.linux-x86_64/egg/EGG-INFO\n",
      "copying q2_classo.egg-info/dependency_links.txt -> build/bdist.linux-x86_64/egg/EGG-INFO\n",
      "copying q2_classo.egg-info/entry_points.txt -> build/bdist.linux-x86_64/egg/EGG-INFO\n",
      "copying q2_classo.egg-info/not-zip-safe -> build/bdist.linux-x86_64/egg/EGG-INFO\n",
      "copying q2_classo.egg-info/top_level.txt -> build/bdist.linux-x86_64/egg/EGG-INFO\n",
      "creating 'dist/q2_classo-0.0.0.dev0-py3.8.egg' and adding 'build/bdist.linux-x86_64/egg' to it\n",
      "removing 'build/bdist.linux-x86_64/egg' (and everything under it)\n",
      "Processing q2_classo-0.0.0.dev0-py3.8.egg\n",
      "creating /opt/conda/envs/qiime2-2021.4/lib/python3.8/site-packages/q2_classo-0.0.0.dev0-py3.8.egg\n",
      "Extracting q2_classo-0.0.0.dev0-py3.8.egg to /opt/conda/envs/qiime2-2021.4/lib/python3.8/site-packages\n",
      "Adding q2-classo 0.0.0.dev0 to easy-install.pth file\n",
      "\n",
      "Installed /opt/conda/envs/qiime2-2021.4/lib/python3.8/site-packages/q2_classo-0.0.0.dev0-py3.8.egg\n",
      "Processing dependencies for q2-classo==0.0.0.dev0\n",
      "Finished processing dependencies for q2-classo==0.0.0.dev0\n"
     ]
    }
   ],
   "source": [
    "!python setup.py install"
   ]
  },
  {
   "cell_type": "code",
   "execution_count": 9,
   "metadata": {
    "ExecuteTime": {
     "end_time": "2021-09-20T13:56:47.222024Z",
     "start_time": "2021-09-20T13:56:37.576839Z"
    },
    "scrolled": true
   },
   "outputs": [
    {
     "name": "stdout",
     "output_type": "stream",
     "text": [
      "Obtaining file:///data\n",
      "Installing collected packages: q2-classo\n",
      "  Attempting uninstall: q2-classo\n",
      "    Found existing installation: q2-classo 0.0.0.dev0\n",
      "    Uninstalling q2-classo-0.0.0.dev0:\n",
      "      Successfully uninstalled q2-classo-0.0.0.dev0\n",
      "  Running setup.py develop for q2-classo\n",
      "Successfully installed q2-classo\n"
     ]
    }
   ],
   "source": [
    "!pip install -e ."
   ]
  },
  {
   "cell_type": "code",
   "execution_count": 10,
   "metadata": {
    "ExecuteTime": {
     "end_time": "2021-09-20T13:57:03.353426Z",
     "start_time": "2021-09-20T13:56:51.313792Z"
    }
   },
   "outputs": [
    {
     "name": "stdout",
     "output_type": "stream",
     "text": [
      "\u001b[33mQIIME is caching your current deployment for improved performance. This may take a few moments and should only happen once per deployment.\u001b[0m\n"
     ]
    }
   ],
   "source": [
    "!qiime dev refresh-cache"
   ]
  },
  {
   "cell_type": "code",
   "execution_count": 11,
   "metadata": {
    "ExecuteTime": {
     "end_time": "2021-09-20T13:57:03.467526Z",
     "start_time": "2021-09-20T13:57:03.358411Z"
    }
   },
   "outputs": [
    {
     "name": "stdout",
     "output_type": "stream",
     "text": [
      "/data/example/data\n"
     ]
    }
   ],
   "source": [
    "cd example/data"
   ]
  },
  {
   "cell_type": "markdown",
   "metadata": {},
   "source": [
    "## Filter features"
   ]
  },
  {
   "cell_type": "code",
   "execution_count": 13,
   "metadata": {
    "ExecuteTime": {
     "end_time": "2021-09-20T13:57:17.374234Z",
     "start_time": "2021-09-20T13:57:05.425510Z"
    }
   },
   "outputs": [
    {
     "name": "stdout",
     "output_type": "stream",
     "text": [
      "\u001b[32mSaved FeatureTable[Frequency] to: filtered-table.qza\u001b[0m\n"
     ]
    }
   ],
   "source": [
    "!qiime feature-table filter-features \\\n",
    "  --i-table table.qza \\\n",
    "  --p-min-samples 20 \\\n",
    "  --o-filtered-table filtered-table.qza"
   ]
  },
  {
   "cell_type": "markdown",
   "metadata": {},
   "source": [
    "## log-contrast and taxa processing"
   ]
  },
  {
   "cell_type": "markdown",
   "metadata": {},
   "source": [
    "Either collapse at genus level, which is the 'easy way', but not really what we want"
   ]
  },
  {
   "cell_type": "code",
   "execution_count": 14,
   "metadata": {},
   "outputs": [
    {
     "name": "stdout",
     "output_type": "stream",
     "text": [
      "\u001b[32mSaved FeatureTable[Frequency] to: genus_table.qza\u001b[0m\n"
     ]
    }
   ],
   "source": [
    "!qiime taxa collapse --i-table table.qza \\\n",
    "  --i-taxonomy taxonomy.qza \\\n",
    "  --p-level 6 \\\n",
    "  --o-collapsed-table genus_table.qza"
   ]
  },
  {
   "cell_type": "code",
   "execution_count": 15,
   "metadata": {
    "ExecuteTime": {
     "end_time": "2021-09-20T14:34:41.317883Z",
     "start_time": "2021-09-20T14:34:07.463038Z"
    }
   },
   "outputs": [
    {
     "name": "stdout",
     "output_type": "stream",
     "text": [
      "\u001b[32mSaved FeatureTable[Design] to: genus_table_clr.qza\u001b[0m\n"
     ]
    }
   ],
   "source": [
    "!qiime classo transform-features \\\n",
    "     --p-transformation clr \\\n",
    "     --p-coef 0.5 \\\n",
    "     --i-features genus_table.qza \\\n",
    "     --o-x genus_table_clr"
   ]
  },
  {
   "cell_type": "code",
   "execution_count": 16,
   "metadata": {},
   "outputs": [
    {
     "name": "stdout",
     "output_type": "stream",
     "text": [
      "\u001b[32mSaved FeatureTable[Design] to: xclr.qza\u001b[0m\n"
     ]
    }
   ],
   "source": [
    " !qiime classo transform-features \\\n",
    "     --p-transformation clr \\\n",
    "     --p-coef 0.5 \\\n",
    "     --i-features filtered-table.qza \\\n",
    "     --o-x xclr"
   ]
  },
  {
   "cell_type": "code",
   "execution_count": 17,
   "metadata": {
    "ExecuteTime": {
     "end_time": "2021-09-20T14:35:57.661014Z",
     "start_time": "2021-09-20T14:35:13.164378Z"
    }
   },
   "outputs": [
    {
     "name": "stdout",
     "output_type": "stream",
     "text": [
      "\u001b[32mSaved FeatureTable[Design] to: xtaxa.qza\u001b[0m\n",
      "\u001b[32mSaved Weights to: wtaxa.qza\u001b[0m\n"
     ]
    }
   ],
   "source": [
    "!qiime classo add-taxa \\\n",
    "\t--i-features xclr.qza  \\\n",
    "\t--i-taxa taxonomy.qza \\\n",
    "\t--o-x xtaxa --o-aweights wtaxa"
   ]
  },
  {
   "cell_type": "code",
   "execution_count": 18,
   "metadata": {
    "ExecuteTime": {
     "end_time": "2021-09-20T15:02:32.899620Z",
     "start_time": "2021-09-20T15:02:26.965368Z"
    },
    "scrolled": true
   },
   "outputs": [
    {
     "name": "stdout",
     "output_type": "stream",
     "text": [
      "Usage: \u001b[34mqiime classo regress\u001b[0m [OPTIONS]\n",
      "\n",
      "  The function computes the constrainted_sparse_regression vector with\n",
      "  respect to the formulation of regression that is asked and with respect to\n",
      "  the model selection parameters given\n",
      "\n",
      "\u001b[1mInputs\u001b[0m:\n",
      "  \u001b[34m\u001b[4m--i-features\u001b[0m ARTIFACT   Matrix representing the data of the problem\n",
      "    \u001b[32mFeatureTable[Design]\u001b[0m                                            \u001b[35m[required]\u001b[0m\n",
      "  \u001b[34m--i-c\u001b[0m ARTIFACT          Constraint matrix, default is the zero-sum\n",
      "    \u001b[32mConstraintMatrix\u001b[0m                                                \u001b[35m[optional]\u001b[0m\n",
      "  \u001b[34m--i-weights\u001b[0m ARTIFACT    Vector of weights for penalization\n",
      "    \u001b[32mWeights\u001b[0m                                                         \u001b[35m[optional]\u001b[0m\n",
      "\u001b[1mParameters\u001b[0m:\n",
      "  \u001b[34m\u001b[4m--m-y-file\u001b[0m METADATA\n",
      "  \u001b[34m\u001b[4m--m-y-column\u001b[0m COLUMN  \u001b[32mMetadataColumn[Numeric]\u001b[0m\n",
      "                          Vector representing the output of the problem\n",
      "                                                                    \u001b[35m[required]\u001b[0m\n",
      "  \u001b[34m--p-do-yshift\u001b[0m / \u001b[34m--p-no-do-yshift\u001b[0m\n",
      "                          if set to true, then y will be centered\n",
      "                                                              \u001b[35m[default: False]\u001b[0m\n",
      "  \u001b[34m--p-path\u001b[0m / \u001b[34m--p-no-path\u001b[0m  True if path should be computed. Default Value =\n",
      "                          False                                \u001b[35m[default: True]\u001b[0m\n",
      "  \u001b[34m--p-path-numerical-method\u001b[0m TEXT\n",
      "                          name of the numerical method that is used, it can\n",
      "                          be :‘Path-Alg’ (path algorithm) , ‘P-PDS’ (Projected\n",
      "                          primal-dual splitting method) , ‘PF-PDS’\n",
      "                          (Projection-free primal-dual splitting method) or\n",
      "                          ‘DR’ (Douglas-Rachford-type splitting method)\n",
      "                          Default value : ‘choose’, which means that the\n",
      "                          function choose_numerical_method() will choose it\n",
      "                          accordingly to the formulation\n",
      "                                                    \u001b[35m[default: 'not specified']\u001b[0m\n",
      "  \u001b[34m--p-path-n-active\u001b[0m INTEGER\n",
      "                          if it is an integer, then the algo stop computing\n",
      "                          the path when n_active variables are actives. then\n",
      "                          the solution does not change from this point.\n",
      "                          Dafault value : False                   \u001b[35m[default: 0]\u001b[0m\n",
      "  \u001b[34m--p-path-nlam-log\u001b[0m INTEGER\n",
      "                          number of lambdas required, if the list of lambdas\n",
      "                          is not specified, in order to use a log-ratio list\n",
      "                          of lambdas                             \u001b[35m[default: 40]\u001b[0m\n",
      "  \u001b[34m--p-path-lamin-log\u001b[0m NUMBER\n",
      "                          minimum of lambdas required, if the list of lambdas\n",
      "                          is not specified, in order to use a log-ratio list\n",
      "                          of lambdas                           \u001b[35m[default: 0.01]\u001b[0m\n",
      "  \u001b[34m--p-cv\u001b[0m / \u001b[34m--p-no-cv\u001b[0m      True if Cross Validation should be computed.\n",
      "                          Default Value = False                \u001b[35m[default: True]\u001b[0m\n",
      "  \u001b[34m--p-cv-numerical-method\u001b[0m TEXT\n",
      "                          name of the numerical method that is used, it can\n",
      "                          be : ‘Path-Alg’ (path algorithm), ‘P-PDS’ (Projected\n",
      "                          primal-dual splitting method), ‘PF-PDS’\n",
      "                          (Projection-free primal-dual splitting method) or\n",
      "                          ‘DR’ (Douglas-Rachford-type splitting method)\n",
      "                          Default value : ‘choose’, which means that the\n",
      "                          function choose_numerical_method() will choose it\n",
      "                          accordingly to the formulation\n",
      "                                                    \u001b[35m[default: 'not specified']\u001b[0m\n",
      "  \u001b[34m--p-cv-seed\u001b[0m INTEGER     Seed for random values, for an equal seed, the\n",
      "                          result will be the same. If set to False/None:\n",
      "                          pseudo-random vectorsDefault value : None\n",
      "                                                                  \u001b[35m[default: 1]\u001b[0m\n",
      "  \u001b[34m--p-cv-one-se\u001b[0m / \u001b[34m--p-no-cv-one-se\u001b[0m\n",
      "                          if set to True, the selected lambda if computed\n",
      "                          with method ‘one-standard-error’ Default value :\n",
      "                          True                                 \u001b[35m[default: True]\u001b[0m\n",
      "  \u001b[34m--p-cv-subsets\u001b[0m INTEGER  number of subset in the cross validation method.\n",
      "                          Default value : 5                       \u001b[35m[default: 5]\u001b[0m\n",
      "  \u001b[34m--p-cv--nlam\u001b[0m INTEGER    number of lambda in cross-validation path\n",
      "                                                                \u001b[35m[default: 100]\u001b[0m\n",
      "  \u001b[34m--p-cv-lamin\u001b[0m NUMBER     lambda minimum in cross-validation path\n",
      "                                                              \u001b[35m[default: 0.001]\u001b[0m\n",
      "  \u001b[34m--p-cv-logscale\u001b[0m / \u001b[34m--p-no-cv-logscale\u001b[0m\n",
      "                          log scale in cross-validation path   \u001b[35m[default: True]\u001b[0m\n",
      "  \u001b[34m--p-stabsel\u001b[0m / \u001b[34m--p-no-stabsel\u001b[0m\n",
      "                          True if Stability Selection should be computed.\n",
      "                          Default Value = True                 \u001b[35m[default: True]\u001b[0m\n",
      "  \u001b[34m--p-stabsel-numerical-method\u001b[0m TEXT\n",
      "                          name of the numerical method that is used, it can\n",
      "                          be : ‘Path-Alg’ (path algorithm), ‘P-PDS’ (Projected\n",
      "                          primal-dual splitting method), ‘PF-PDS’\n",
      "                          (Projection-free primal-dual splitting method) or\n",
      "                          ‘DR’ (Douglas-Rachford-type splitting method)\n",
      "                          Default value : ‘choose’, which means that the\n",
      "                          function choose_numerical_method() will choose it\n",
      "                          accordingly to the formulation\n",
      "                                                    \u001b[35m[default: 'not specified']\u001b[0m\n",
      "  \u001b[34m--p-stabsel-seed\u001b[0m INTEGER\n",
      "                          Seed for random values, for an equal seed, the\n",
      "                          result will be the same. If set to False/None:\n",
      "                          pseudo-random vectors Default value : None\n",
      "                                                                    \u001b[35m[optional]\u001b[0m\n",
      "  \u001b[34m--p-stabsel-lam\u001b[0m NUMBER  (only used if method = ‘lam’) lam for which the\n",
      "                          lasso should be computed. Default value : -1. which\n",
      "                          means it will be equal to theoretical_lam once it is\n",
      "                          computed                             \u001b[35m[default: -1.0]\u001b[0m\n",
      "  \u001b[34m--p-stabsel-true-lam\u001b[0m / \u001b[34m--p-no-stabsel-true-lam\u001b[0m\n",
      "                          (only used if method = ‘lam’) True if the lambda\n",
      "                          given is the real lambda, False if it\n",
      "                          lambda/lambdamax which is between 0 and 1. If True\n",
      "                          and lam = -1. , then it will takes the value\n",
      "                          n*theoretical_lam. Default value : True\n",
      "                                                               \u001b[35m[default: True]\u001b[0m\n",
      "  \u001b[34m--p-stabsel-method\u001b[0m TEXT ‘first’, ‘lam’ or ‘max’ depending on the type of\n",
      "                          stability selection we do. Default value : ‘first’\n",
      "                                                            \u001b[35m[default: 'first']\u001b[0m\n",
      "  \u001b[34m--p-stabsel-b\u001b[0m INTEGER   number of subsample considered. Default value : 50\n",
      "                                                                 \u001b[35m[default: 50]\u001b[0m\n",
      "  \u001b[34m--p-stabsel-q\u001b[0m INTEGER   number of selected variable per subsample. Default\n",
      "                          value : 10                             \u001b[35m[default: 10]\u001b[0m\n",
      "  \u001b[34m--p-stabsel-percent-ns\u001b[0m NUMBER\n",
      "                          size of subsample relatively to the total amount of\n",
      "                          sample Default value : 0.5            \u001b[35m[default: 0.5]\u001b[0m\n",
      "  \u001b[34m--p-stabsel-lamin\u001b[0m NUMBER\n",
      "                          lamin when computing the lasso-path for method\n",
      "                          ‘max’ Default value : 1e-2           \u001b[35m[default: 0.01]\u001b[0m\n",
      "  \u001b[34m--p-stabsel-threshold\u001b[0m NUMBER\n",
      "                          threhold for stability selection Default value :\n",
      "                          0.7                                   \u001b[35m[default: 0.7]\u001b[0m\n",
      "  \u001b[34m--p-stabsel-threshold-label\u001b[0m NUMBER\n",
      "                          threshold to know when the label should be plot on\n",
      "                          the graph. Default value : 0.4        \u001b[35m[default: 0.4]\u001b[0m\n",
      "  \u001b[34m--p-lamfixed\u001b[0m / \u001b[34m--p-no-lamfixed\u001b[0m\n",
      "                          True if solution for a fixed lambda should be\n",
      "                          computed. Default Value = False      \u001b[35m[default: True]\u001b[0m\n",
      "  \u001b[34m--p-lamfixed-numerical-method\u001b[0m TEXT\n",
      "                          name of the numerical method that is used, it can\n",
      "                          be : ‘Path-Alg’ (path algorithm), ‘P-PDS’ (Projected\n",
      "                          primal-dual splitting method), ‘PF-PDS’\n",
      "                          (Projection-free primal-dual splitting method) or\n",
      "                          ‘DR’ (Douglas-Rachford-type splitting method)\n",
      "                          Default value : ‘choose’, which means that the\n",
      "                          function choose_numerical_method() will choose it\n",
      "                          accordingly to the formulation\n",
      "                                                    \u001b[35m[default: 'not specified']\u001b[0m\n",
      "  \u001b[34m--p-lamfixed-lam\u001b[0m NUMBER lam for which the lasso should be computed. Default\n",
      "                          value : -1 which mean it will be equal to\n",
      "                          theoretical_lam once it is computed  \u001b[35m[default: -1.0]\u001b[0m\n",
      "  \u001b[34m--p-lamfixed-true-lam\u001b[0m / \u001b[34m--p-no-lamfixed-true-lam\u001b[0m\n",
      "                          True if the lambda given is the real lambda, False\n",
      "                          if it lambda/lambdamax which is between 0 and 1. If\n",
      "                          True and lam = -1. , then it will takes the value\n",
      "                          n*theoretical_lam. Default value : True\n",
      "                                                               \u001b[35m[default: True]\u001b[0m\n",
      "  \u001b[34m--p-concomitant\u001b[0m / \u001b[34m--p-no-concomitant\u001b[0m\n",
      "                          True if the formulation of the problem should be\n",
      "                          with an M_estimation of sigma. Default value = True\n",
      "                                                               \u001b[35m[default: True]\u001b[0m\n",
      "  \u001b[34m--p-huber\u001b[0m / \u001b[34m--p-no-huber\u001b[0m\n",
      "                          True if the formulation of the problem should be\n",
      "                          robust Default value = False        \u001b[35m[default: False]\u001b[0m\n",
      "  \u001b[34m--p-rho\u001b[0m NUMBER          Value of rho for robust problem. Default value =\n",
      "                          1.345                               \u001b[35m[default: 1.345]\u001b[0m\n",
      "  \u001b[34m--p-intercept\u001b[0m / \u001b[34m--p-no-intercept\u001b[0m\n",
      "                          if True, the formulation will be with an intercept\n",
      "                                                               \u001b[35m[default: True]\u001b[0m\n",
      "\u001b[1mOutputs\u001b[0m:\n",
      "  \u001b[34m\u001b[4m--o-result\u001b[0m ARTIFACT     Directory format that will contain all information\n",
      "    \u001b[32mCLASSOProblem\u001b[0m         about the problem solved                  \u001b[35m[required]\u001b[0m\n",
      "\u001b[1mMiscellaneous\u001b[0m:\n",
      "  \u001b[34m--output-dir\u001b[0m PATH       Output unspecified results to a directory\n",
      "  \u001b[34m--verbose\u001b[0m / \u001b[34m--quiet\u001b[0m     Display verbose output to stdout and/or stderr\n",
      "                          during execution of this action. Or silence output\n",
      "                          if execution is successful (silence is golden).\n",
      "  \u001b[34m--examples\u001b[0m              Show usage examples and exit.\n",
      "  \u001b[34m--citations\u001b[0m             Show citations and exit.\n",
      "  \u001b[34m--help\u001b[0m                  Show this message and exit.\n"
     ]
    }
   ],
   "source": [
    "!qiime classo regress --help"
   ]
  },
  {
   "cell_type": "markdown",
   "metadata": {},
   "source": [
    "## Add covariates"
   ]
  },
  {
   "cell_type": "code",
   "execution_count": 19,
   "metadata": {
    "ExecuteTime": {
     "end_time": "2021-09-20T15:16:45.848163Z",
     "start_time": "2021-09-20T15:16:26.899492Z"
    }
   },
   "outputs": [
    {
     "name": "stdout",
     "output_type": "stream",
     "text": [
      "\u001b[32mSaved FeatureTable[Design] to: xcovariates.qza\u001b[0m\n",
      "\u001b[32mSaved ConstraintMatrix to: ccovariates.qza\u001b[0m\n",
      "\u001b[32mSaved Weights to: wcovariates.qza\u001b[0m\n"
     ]
    }
   ],
   "source": [
    "!qiime classo add-covariates \\\n",
    "    --i-features xtaxa.qza \\\n",
    "    --i-weights wtaxa.qza \\\n",
    "    --m-covariates-file sample-metadata-complete.tsv \\\n",
    "    --p-to-add host_sexual_orientation host_age host_body_mass_index ethnicity \\\n",
    "    --p-w-to-add 0.1 1. 1. 0.1 \\\n",
    "    --o-new-features xcovariates \\\n",
    "    --o-new-c ccovariates \\\n",
    "    --o-new-w wcovariates"
   ]
  },
  {
   "cell_type": "markdown",
   "metadata": {},
   "source": [
    "## Split table"
   ]
  },
  {
   "cell_type": "markdown",
   "metadata": {},
   "source": [
    "Split data into training and testing sets : "
   ]
  },
  {
   "cell_type": "code",
   "execution_count": 20,
   "metadata": {
    "ExecuteTime": {
     "end_time": "2021-09-20T15:17:09.820614Z",
     "start_time": "2021-09-20T15:16:45.874975Z"
    }
   },
   "outputs": [
    {
     "name": "stdout",
     "output_type": "stream",
     "text": [
      "\u001b[32mSaved FeatureTable[Design] to: regress-xtraining.qza\u001b[0m\n",
      "\u001b[32mSaved FeatureTable[Design] to: regress-xtest.qza\u001b[0m\n"
     ]
    }
   ],
   "source": [
    "!qiime sample-classifier split-table \\\n",
    "\t--i-table xcovariates.qza \\\n",
    "\t--m-metadata-file sample-metadata-complete.tsv \\\n",
    "\t--m-metadata-column sCD14  \\\n",
    "\t--p-test-size 0.2 \\\n",
    "\t--p-random-state 42 \\\n",
    "\t--p-stratify False \\\n",
    "\t--o-training-table regress-xtraining \\\n",
    "\t--o-test-table regress-xtest"
   ]
  },
  {
   "cell_type": "code",
   "execution_count": 21,
   "metadata": {
    "ExecuteTime": {
     "end_time": "2021-09-20T15:17:41.724205Z",
     "start_time": "2021-09-20T15:17:09.840788Z"
    }
   },
   "outputs": [
    {
     "name": "stdout",
     "output_type": "stream",
     "text": [
      "\u001b[32mSaved FeatureTable[Design] to: classify-xtraining.qza\u001b[0m\n",
      "\u001b[32mSaved FeatureTable[Design] to: classify-xtest.qza\u001b[0m\n"
     ]
    }
   ],
   "source": [
    "!qiime sample-classifier split-table \\\n",
    "\t--i-table xcovariates.qza \\\n",
    "\t--m-metadata-file sample-metadata-complete.tsv \\\n",
    "\t--m-metadata-column HIV_serostatus  \\\n",
    "\t--p-test-size 0.2 \\\n",
    "\t--p-random-state 42 \\\n",
    "\t--p-stratify False \\\n",
    "\t--o-training-table classify-xtraining \\\n",
    "\t--o-test-table classify-xtest"
   ]
  },
  {
   "cell_type": "markdown",
   "metadata": {},
   "source": [
    "## Regression task "
   ]
  },
  {
   "cell_type": "markdown",
   "metadata": {},
   "source": [
    "Apply classo to the training set to solve the linear regression problem : "
   ]
  },
  {
   "cell_type": "code",
   "execution_count": 22,
   "metadata": {
    "ExecuteTime": {
     "end_time": "2021-07-15T17:57:29.589090Z",
     "start_time": "2021-07-15T17:57:19.024468Z"
    },
    "run_control": {
     "marked": false
    },
    "scrolled": true
   },
   "outputs": [
    {
     "name": "stdout",
     "output_type": "stream",
     "text": [
      "\u001b[32mSaved CLASSOProblem to: regresstaxa.qza\u001b[0m\n"
     ]
    }
   ],
   "source": [
    "!qiime classo regress  \\\n",
    "    --i-features regress-xtraining.qza \\\n",
    "    --i-c ccovariates.qza \\\n",
    "    --i-weights wcovariates.qza \\\n",
    "    --m-y-file sample-metadata-complete.tsv \\\n",
    "    --m-y-column sCD14  \\\n",
    "    --p-concomitant \\\n",
    "    --p-stabsel \\\n",
    "    --p-cv \\\n",
    "    --p-path \\\n",
    "    --p-lamfixed \\\n",
    "    --p-stabsel-threshold 0.5 \\\n",
    "    --p-cv-seed 1 \\\n",
    "    --p-no-cv-one-se \\\n",
    "    --o-result regresstaxa"
   ]
  },
  {
   "cell_type": "markdown",
   "metadata": {},
   "source": [
    "## Classification task"
   ]
  },
  {
   "cell_type": "code",
   "execution_count": 23,
   "metadata": {
    "ExecuteTime": {
     "end_time": "2021-07-15T17:58:03.597187Z",
     "start_time": "2021-07-15T17:57:36.659998Z"
    }
   },
   "outputs": [
    {
     "name": "stdout",
     "output_type": "stream",
     "text": [
      "\u001b[32mSaved CLASSOProblem to: classifytaxa.qza\u001b[0m\n"
     ]
    }
   ],
   "source": [
    "!qiime classo classify  \\\n",
    "    --i-features classify-xtraining.qza \\\n",
    "    --i-c ccovariates.qza \\\n",
    "    --i-weights wcovariates.qza \\\n",
    "    --m-y-file sample-metadata-complete.tsv \\\n",
    "    --m-y-column HIV_serostatus  \\\n",
    "    --p-huber \\\n",
    "    --p-stabsel \\\n",
    "    --p-cv \\\n",
    "    --p-path \\\n",
    "    --p-lamfixed \\\n",
    "    --p-stabsel-threshold 0.5 \\\n",
    "    --p-cv-seed 42 \\\n",
    "    --p-no-cv-one-se \\\n",
    "    --o-result classifytaxa"
   ]
  },
  {
   "cell_type": "markdown",
   "metadata": {},
   "source": [
    "## Prediction "
   ]
  },
  {
   "cell_type": "code",
   "execution_count": 24,
   "metadata": {
    "ExecuteTime": {
     "end_time": "2021-07-15T17:58:43.757929Z",
     "start_time": "2021-07-15T17:58:25.089725Z"
    }
   },
   "outputs": [
    {
     "name": "stdout",
     "output_type": "stream",
     "text": [
      "\u001b[32mSaved CLASSOProblem to: regress-predictions.qza\u001b[0m\n"
     ]
    }
   ],
   "source": [
    "!qiime classo predict \\\n",
    "    --i-features regress-xtest.qza \\\n",
    "    --i-problem regresstaxa.qza \\\n",
    "    --o-predictions regress-predictions.qza"
   ]
  },
  {
   "cell_type": "code",
   "execution_count": 25,
   "metadata": {
    "ExecuteTime": {
     "end_time": "2021-07-15T17:58:56.428930Z",
     "start_time": "2021-07-15T17:58:43.762533Z"
    },
    "scrolled": true
   },
   "outputs": [
    {
     "name": "stdout",
     "output_type": "stream",
     "text": [
      "\u001b[32mSaved CLASSOProblem to: classify-predictions.qza\u001b[0m\n"
     ]
    }
   ],
   "source": [
    "!qiime classo predict \\\n",
    "    --i-features classify-xtest.qza \\\n",
    "    --i-problem classifytaxa.qza \\\n",
    "    --o-predictions classify-predictions.qza"
   ]
  },
  {
   "cell_type": "markdown",
   "metadata": {},
   "source": [
    "## Visualization"
   ]
  },
  {
   "cell_type": "code",
   "execution_count": 26,
   "metadata": {
    "ExecuteTime": {
     "end_time": "2021-07-15T17:59:17.853233Z",
     "start_time": "2021-07-15T17:58:56.434650Z"
    },
    "run_control": {
     "marked": false
    }
   },
   "outputs": [
    {
     "name": "stdout",
     "output_type": "stream",
     "text": [
      "\u001b[32mSaved Visualization to: regresstaxa.qzv\u001b[0m\n"
     ]
    }
   ],
   "source": [
    "!qiime classo summarize \\\n",
    "  --i-problem regresstaxa.qza \\\n",
    "  --i-taxa taxonomy.qza \\\n",
    "  --i-predictions regress-predictions.qza \\\n",
    "  --o-visualization regresstaxa.qzv"
   ]
  },
  {
   "cell_type": "code",
   "execution_count": 27,
   "metadata": {
    "ExecuteTime": {
     "end_time": "2021-07-15T17:59:39.267785Z",
     "start_time": "2021-07-15T17:59:17.857817Z"
    },
    "scrolled": true
   },
   "outputs": [
    {
     "name": "stdout",
     "output_type": "stream",
     "text": [
      "/data/q2_classo/_summarize/_visualizer.py:772: FutureWarning:\n",
      "\n",
      "Index.__and__ operating as a set operation is deprecated, in the future this will be a logical operation matching Series.__and__.  Use index.intersection(other) instead\n",
      "\n",
      "/data/q2_classo/_summarize/_visualizer.py:773: FutureWarning:\n",
      "\n",
      "Index.__and__ operating as a set operation is deprecated, in the future this will be a logical operation matching Series.__and__.  Use index.intersection(other) instead\n",
      "\n",
      "/data/q2_classo/_summarize/_visualizer.py:772: FutureWarning:\n",
      "\n",
      "Index.__and__ operating as a set operation is deprecated, in the future this will be a logical operation matching Series.__and__.  Use index.intersection(other) instead\n",
      "\n",
      "/data/q2_classo/_summarize/_visualizer.py:773: FutureWarning:\n",
      "\n",
      "Index.__and__ operating as a set operation is deprecated, in the future this will be a logical operation matching Series.__and__.  Use index.intersection(other) instead\n",
      "\n",
      "/data/q2_classo/_summarize/_visualizer.py:772: FutureWarning:\n",
      "\n",
      "Index.__and__ operating as a set operation is deprecated, in the future this will be a logical operation matching Series.__and__.  Use index.intersection(other) instead\n",
      "\n",
      "/data/q2_classo/_summarize/_visualizer.py:773: FutureWarning:\n",
      "\n",
      "Index.__and__ operating as a set operation is deprecated, in the future this will be a logical operation matching Series.__and__.  Use index.intersection(other) instead\n",
      "\n",
      "\u001b[32mSaved Visualization to: classifytaxa.qzv\u001b[0m\n"
     ]
    }
   ],
   "source": [
    "!qiime classo summarize \\\n",
    "  --i-problem classifytaxa.qza \\\n",
    "  --i-taxa taxonomy.qza \\\n",
    "  --i-predictions classify-predictions.qza \\\n",
    "  --o-visualization classifytaxa.qzv \\\n",
    "  --verbose"
   ]
  },
  {
   "cell_type": "code",
   "execution_count": 28,
   "metadata": {
    "ExecuteTime": {
     "start_time": "2021-09-20T15:20:02.418Z"
    },
    "run_control": {
     "marked": false
    }
   },
   "outputs": [
    {
     "name": "stdout",
     "output_type": "stream",
     "text": [
      "Usage: \u001b[34mqiime tools view\u001b[0m [OPTIONS] VISUALIZATION\n",
      "\n",
      "Error: Visualization viewing is currently not supported in headless environments. You can view Visualizations (and Artifacts) at https://view.qiime2.org, or move the Visualization to an environment with a display and view it with `qiime tools view`.\n"
     ]
    }
   ],
   "source": [
    "!qiime tools view regresstaxa.qzv"
   ]
  },
  {
   "cell_type": "code",
   "execution_count": 29,
   "metadata": {
    "ExecuteTime": {
     "end_time": "2020-11-12T09:42:25.709505Z",
     "start_time": "2020-11-12T09:40:55.073739Z"
    },
    "scrolled": true
   },
   "outputs": [
    {
     "name": "stdout",
     "output_type": "stream",
     "text": [
      "Usage: \u001b[34mqiime tools view\u001b[0m [OPTIONS] VISUALIZATION\n",
      "\n",
      "Error: Visualization viewing is currently not supported in headless environments. You can view Visualizations (and Artifacts) at https://view.qiime2.org, or move the Visualization to an environment with a display and view it with `qiime tools view`.\n"
     ]
    }
   ],
   "source": [
    "!qiime tools view classifytaxa.qzv"
   ]
  },
  {
   "cell_type": "markdown",
   "metadata": {},
   "source": [
    "Alternatively, one can drag&drop the file problemtaxa.qzv on : https://view.qiime2.org\n",
    "Thanks to this alternative, one can also track the workflow that the qiime2 artifact did. "
   ]
  },
  {
   "cell_type": "code",
   "execution_count": 32,
   "metadata": {},
   "outputs": [
    {
     "name": "stdout",
     "output_type": "stream",
     "text": [
      "hello classo!\n"
     ]
    }
   ],
   "source": [
    "print(\"hello classo!\")"
   ]
  }
 ],
 "metadata": {
  "kernelspec": {
   "display_name": "Python 3",
   "language": "python",
   "name": "python3"
  },
  "language_info": {
   "codemirror_mode": {
    "name": "ipython",
    "version": 3
   },
   "file_extension": ".py",
   "mimetype": "text/x-python",
   "name": "python",
   "nbconvert_exporter": "python",
   "pygments_lexer": "ipython3",
   "version": "3.8.8"
  },
  "toc": {
   "base_numbering": 1,
   "nav_menu": {},
   "number_sections": true,
   "sideBar": true,
   "skip_h1_title": false,
   "title_cell": "Table of Contents",
   "title_sidebar": "Contents",
   "toc_cell": false,
   "toc_position": {},
   "toc_section_display": true,
   "toc_window_display": false
  }
 },
 "nbformat": 4,
 "nbformat_minor": 4
}
