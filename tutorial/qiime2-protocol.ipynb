{
 "cells": [
  {
   "cell_type": "markdown",
   "metadata": {
    "ExecuteTime": {
     "end_time": "2020-11-06T08:22:14.807224Z",
     "start_time": "2020-11-06T08:22:14.697114Z"
    }
   },
   "source": [
    "# QIIME 2 enables comprehensive end-to-end analysis of diverse microbiome data and comparative studies with publicly available data\n",
    "\n",
    "this is a QIIME 2 Artifact CLI notebook which replicated analyses in the QIIME 2 protocol\n",
    "\n",
    "**environment:** qiime2-2020.2"
   ]
  },
  {
   "cell_type": "code",
   "execution_count": 49,
   "metadata": {
    "ExecuteTime": {
     "end_time": "2020-11-09T23:32:41.850077Z",
     "start_time": "2020-11-09T23:32:39.064868Z"
    },
    "collapsed": true,
    "deletable": false,
    "editable": false,
    "run_control": {
     "frozen": true
    }
   },
   "outputs": [
    {
     "name": "stdout",
     "output_type": "stream",
     "text": [
      "Processing /Users/lsimpson/Library/Caches/pip/wheels/05/4a/e3/9c53d5ed27403a785368afcae55a715603472a82bb66faf6f2/c_lasso-1.0.0.5-py3-none-any.whl\n",
      "Requirement already satisfied, skipping upgrade: matplotlib in /Users/lsimpson/anaconda3/envs/qiime2-2020.11/lib/python3.6/site-packages (from c-lasso) (3.2.2)\n",
      "Requirement already satisfied, skipping upgrade: h5py in /Users/lsimpson/anaconda3/envs/qiime2-2020.11/lib/python3.6/site-packages (from c-lasso) (2.10.0)\n",
      "Requirement already satisfied, skipping upgrade: numpy in /Users/lsimpson/anaconda3/envs/qiime2-2020.11/lib/python3.6/site-packages (from c-lasso) (1.19.1)\n",
      "Requirement already satisfied, skipping upgrade: pandas in /Users/lsimpson/anaconda3/envs/qiime2-2020.11/lib/python3.6/site-packages (from c-lasso) (0.25.3)\n",
      "Requirement already satisfied, skipping upgrade: scipy in /Users/lsimpson/anaconda3/envs/qiime2-2020.11/lib/python3.6/site-packages (from c-lasso) (1.5.2)\n",
      "Requirement already satisfied, skipping upgrade: python-dateutil>=2.1 in /Users/lsimpson/anaconda3/envs/qiime2-2020.11/lib/python3.6/site-packages (from matplotlib->c-lasso) (2.8.1)\n",
      "Requirement already satisfied, skipping upgrade: kiwisolver>=1.0.1 in /Users/lsimpson/anaconda3/envs/qiime2-2020.11/lib/python3.6/site-packages (from matplotlib->c-lasso) (1.2.0)\n",
      "Requirement already satisfied, skipping upgrade: pyparsing!=2.0.4,!=2.1.2,!=2.1.6,>=2.0.1 in /Users/lsimpson/anaconda3/envs/qiime2-2020.11/lib/python3.6/site-packages (from matplotlib->c-lasso) (2.4.7)\n",
      "Requirement already satisfied, skipping upgrade: cycler>=0.10 in /Users/lsimpson/anaconda3/envs/qiime2-2020.11/lib/python3.6/site-packages (from matplotlib->c-lasso) (0.10.0)\n",
      "Requirement already satisfied, skipping upgrade: six in /Users/lsimpson/anaconda3/envs/qiime2-2020.11/lib/python3.6/site-packages (from h5py->c-lasso) (1.15.0)\n",
      "Requirement already satisfied, skipping upgrade: pytz>=2017.2 in /Users/lsimpson/anaconda3/envs/qiime2-2020.11/lib/python3.6/site-packages (from pandas->c-lasso) (2020.1)\n",
      "Installing collected packages: c-lasso\n",
      "  Attempting uninstall: c-lasso\n",
      "    Found existing installation: c-lasso 1.0.0.4\n",
      "    Uninstalling c-lasso-1.0.0.4:\n",
      "      Successfully uninstalled c-lasso-1.0.0.4\n",
      "Successfully installed c-lasso-1.0.0.5\n"
     ]
    }
   ],
   "source": [
    "pip install --upgrade c-lasso"
   ]
  },
  {
   "cell_type": "code",
   "execution_count": null,
   "metadata": {
    "ExecuteTime": {
     "end_time": "2020-11-06T09:11:30.793410Z",
     "start_time": "2020-11-06T09:11:27.713906Z"
    },
    "deletable": false,
    "editable": false,
    "run_control": {
     "frozen": true
    }
   },
   "outputs": [],
   "source": [
    "pip install c-lasso\n",
    "\n",
    "pip install zarr\n",
    "\n",
    "pip install plotly"
   ]
  },
  {
   "cell_type": "code",
   "execution_count": 96,
   "metadata": {
    "ExecuteTime": {
     "end_time": "2020-11-11T16:08:16.305041Z",
     "start_time": "2020-11-11T16:08:16.193795Z"
    }
   },
   "outputs": [],
   "source": [
    "cd .."
   ]
  },
  {
   "cell_type": "code",
   "execution_count": 97,
   "metadata": {
    "ExecuteTime": {
     "end_time": "2020-11-11T16:08:16.510476Z",
     "start_time": "2020-11-11T16:08:16.392004Z"
    }
   },
   "outputs": [
    {
     "name": "stdout",
     "output_type": "stream",
     "text": [
      "README.md\t\texample\t\t\tsetup.py\n",
      "build\t\t\tq2_classo\t\ttutorial\n",
      "dist\t\t\tq2_classo.egg-info\n"
     ]
    }
   ],
   "source": [
    "ls"
   ]
  },
  {
   "cell_type": "code",
   "execution_count": 98,
   "metadata": {
    "ExecuteTime": {
     "end_time": "2020-11-11T16:08:26.433259Z",
     "start_time": "2020-11-11T16:08:18.461788Z"
    },
    "collapsed": true,
    "deletable": false,
    "editable": false,
    "run_control": {
     "frozen": true
    }
   },
   "outputs": [
    {
     "name": "stdout",
     "output_type": "stream",
     "text": [
      "running install\n",
      "running bdist_egg\n",
      "running egg_info\n",
      "writing q2_classo.egg-info/PKG-INFO\n",
      "writing dependency_links to q2_classo.egg-info/dependency_links.txt\n",
      "writing entry points to q2_classo.egg-info/entry_points.txt\n",
      "writing top-level names to q2_classo.egg-info/top_level.txt\n",
      "reading manifest file 'q2_classo.egg-info/SOURCES.txt'\n",
      "writing manifest file 'q2_classo.egg-info/SOURCES.txt'\n",
      "installing library code to build/bdist.macosx-10.9-x86_64/egg\n",
      "running install_lib\n",
      "running build_py\n",
      "copying q2_classo/_func.py -> build/lib/q2_classo\n",
      "copying q2_classo/plugin_setup.py -> build/lib/q2_classo\n",
      "copying q2_classo/_tree.py -> build/lib/q2_classo\n",
      "copying q2_classo/_summarize/_visualizer.py -> build/lib/q2_classo/_summarize\n",
      "copying q2_classo/_summarize/assets/cv.html -> build/lib/q2_classo/_summarize/assets\n",
      "copying q2_classo/_summarize/assets/lam-fixed.html -> build/lib/q2_classo/_summarize/assets\n",
      "copying q2_classo/_summarize/assets/stabsel.html -> build/lib/q2_classo/_summarize/assets\n",
      "creating build/bdist.macosx-10.9-x86_64/egg\n",
      "creating build/bdist.macosx-10.9-x86_64/egg/q2_classo\n",
      "copying build/lib/q2_classo/_func.py -> build/bdist.macosx-10.9-x86_64/egg/q2_classo\n",
      "copying build/lib/q2_classo/_dict.py -> build/bdist.macosx-10.9-x86_64/egg/q2_classo\n",
      "copying build/lib/q2_classo/plugin_setup.py -> build/bdist.macosx-10.9-x86_64/egg/q2_classo\n",
      "copying build/lib/q2_classo/__init__.py -> build/bdist.macosx-10.9-x86_64/egg/q2_classo\n",
      "copying build/lib/q2_classo/citations.bib -> build/bdist.macosx-10.9-x86_64/egg/q2_classo\n",
      "creating build/bdist.macosx-10.9-x86_64/egg/q2_classo/_summarize\n",
      "creating build/bdist.macosx-10.9-x86_64/egg/q2_classo/_summarize/form\n",
      "copying build/lib/q2_classo/_summarize/form/R2.png -> build/bdist.macosx-10.9-x86_64/egg/q2_classo/_summarize/form\n",
      "copying build/lib/q2_classo/_summarize/form/R3.png -> build/bdist.macosx-10.9-x86_64/egg/q2_classo/_summarize/form\n",
      "copying build/lib/q2_classo/_summarize/form/R1.png -> build/bdist.macosx-10.9-x86_64/egg/q2_classo/_summarize/form\n",
      "copying build/lib/q2_classo/_summarize/form/R4.png -> build/bdist.macosx-10.9-x86_64/egg/q2_classo/_summarize/form\n",
      "copying build/lib/q2_classo/_summarize/form/C1.png -> build/bdist.macosx-10.9-x86_64/egg/q2_classo/_summarize/form\n",
      "copying build/lib/q2_classo/_summarize/form/C2.png -> build/bdist.macosx-10.9-x86_64/egg/q2_classo/_summarize/form\n",
      "copying build/lib/q2_classo/_summarize/__init__.py -> build/bdist.macosx-10.9-x86_64/egg/q2_classo/_summarize\n",
      "copying build/lib/q2_classo/_summarize/_visualizer.py -> build/bdist.macosx-10.9-x86_64/egg/q2_classo/_summarize\n",
      "creating build/bdist.macosx-10.9-x86_64/egg/q2_classo/_summarize/assets\n",
      "copying build/lib/q2_classo/_summarize/assets/index.html -> build/bdist.macosx-10.9-x86_64/egg/q2_classo/_summarize/assets\n",
      "copying build/lib/q2_classo/_summarize/assets/overview.html -> build/bdist.macosx-10.9-x86_64/egg/q2_classo/_summarize/assets\n",
      "copying build/lib/q2_classo/_summarize/assets/cv.html -> build/bdist.macosx-10.9-x86_64/egg/q2_classo/_summarize/assets\n",
      "copying build/lib/q2_classo/_summarize/assets/lam-fixed.html -> build/bdist.macosx-10.9-x86_64/egg/q2_classo/_summarize/assets\n",
      "copying build/lib/q2_classo/_summarize/assets/stabsel.html -> build/bdist.macosx-10.9-x86_64/egg/q2_classo/_summarize/assets\n",
      "copying build/lib/q2_classo/_summarize/assets/path.html -> build/bdist.macosx-10.9-x86_64/egg/q2_classo/_summarize/assets\n",
      "copying build/lib/q2_classo/_formats.py -> build/bdist.macosx-10.9-x86_64/egg/q2_classo\n",
      "copying build/lib/q2_classo/_tree.py -> build/bdist.macosx-10.9-x86_64/egg/q2_classo\n",
      "byte-compiling build/bdist.macosx-10.9-x86_64/egg/q2_classo/_func.py to _func.cpython-36.pyc\n",
      "byte-compiling build/bdist.macosx-10.9-x86_64/egg/q2_classo/_dict.py to _dict.cpython-36.pyc\n",
      "byte-compiling build/bdist.macosx-10.9-x86_64/egg/q2_classo/plugin_setup.py to plugin_setup.cpython-36.pyc\n",
      "byte-compiling build/bdist.macosx-10.9-x86_64/egg/q2_classo/__init__.py to __init__.cpython-36.pyc\n",
      "byte-compiling build/bdist.macosx-10.9-x86_64/egg/q2_classo/_summarize/__init__.py to __init__.cpython-36.pyc\n",
      "byte-compiling build/bdist.macosx-10.9-x86_64/egg/q2_classo/_summarize/_visualizer.py to _visualizer.cpython-36.pyc\n",
      "byte-compiling build/bdist.macosx-10.9-x86_64/egg/q2_classo/_formats.py to _formats.cpython-36.pyc\n",
      "byte-compiling build/bdist.macosx-10.9-x86_64/egg/q2_classo/_tree.py to _tree.cpython-36.pyc\n",
      "creating build/bdist.macosx-10.9-x86_64/egg/EGG-INFO\n",
      "copying q2_classo.egg-info/PKG-INFO -> build/bdist.macosx-10.9-x86_64/egg/EGG-INFO\n",
      "copying q2_classo.egg-info/SOURCES.txt -> build/bdist.macosx-10.9-x86_64/egg/EGG-INFO\n",
      "copying q2_classo.egg-info/dependency_links.txt -> build/bdist.macosx-10.9-x86_64/egg/EGG-INFO\n",
      "copying q2_classo.egg-info/entry_points.txt -> build/bdist.macosx-10.9-x86_64/egg/EGG-INFO\n",
      "copying q2_classo.egg-info/not-zip-safe -> build/bdist.macosx-10.9-x86_64/egg/EGG-INFO\n",
      "copying q2_classo.egg-info/top_level.txt -> build/bdist.macosx-10.9-x86_64/egg/EGG-INFO\n",
      "creating 'dist/q2_classo-0.0.0.dev0-py3.6.egg' and adding 'build/bdist.macosx-10.9-x86_64/egg' to it\n",
      "removing 'build/bdist.macosx-10.9-x86_64/egg' (and everything under it)\n",
      "Processing q2_classo-0.0.0.dev0-py3.6.egg\n",
      "creating /Users/lsimpson/anaconda3/envs/qiime2-2020.11/lib/python3.6/site-packages/q2_classo-0.0.0.dev0-py3.6.egg\n",
      "Extracting q2_classo-0.0.0.dev0-py3.6.egg to /Users/lsimpson/anaconda3/envs/qiime2-2020.11/lib/python3.6/site-packages\n",
      "Removing q2-classo 0.0.0.dev0 from easy-install.pth file\n",
      "Adding q2-classo 0.0.0.dev0 to easy-install.pth file\n",
      "\n",
      "Installed /Users/lsimpson/anaconda3/envs/qiime2-2020.11/lib/python3.6/site-packages/q2_classo-0.0.0.dev0-py3.6.egg\n",
      "Processing dependencies for q2-classo==0.0.0.dev0\n",
      "Finished processing dependencies for q2-classo==0.0.0.dev0\n",
      "Obtaining file:///Users/lsimpson/Desktop/GitHub/q2-classo\n",
      "Installing collected packages: q2-classo\n",
      "  Attempting uninstall: q2-classo\n",
      "    Found existing installation: q2-classo 0.0.0.dev0\n",
      "    Uninstalling q2-classo-0.0.0.dev0:\n",
      "      Successfully uninstalled q2-classo-0.0.0.dev0\n",
      "  Running setup.py develop for q2-classo\n",
      "Successfully installed q2-classo\n"
     ]
    }
   ],
   "source": [
    "python setup.py install\n",
    "\n",
    "pip install -e ."
   ]
  },
  {
   "cell_type": "code",
   "execution_count": 99,
   "metadata": {
    "ExecuteTime": {
     "end_time": "2020-11-11T16:09:11.306348Z",
     "start_time": "2020-11-11T16:09:04.676317Z"
    },
    "scrolled": true
   },
   "outputs": [
    {
     "name": "stdout",
     "output_type": "stream",
     "text": [
      "\u001b[33mQIIME is caching your current deployment for improved performance. This may take a few moments and should only happen once per deployment.\u001b[0m\n"
     ]
    }
   ],
   "source": [
    "qiime dev refresh-cache"
   ]
  },
  {
   "cell_type": "code",
   "execution_count": 100,
   "metadata": {
    "ExecuteTime": {
     "end_time": "2020-11-11T16:09:11.420080Z",
     "start_time": "2020-11-11T16:09:11.311138Z"
    }
   },
   "outputs": [],
   "source": [
    "cd example/Data"
   ]
  },
  {
   "cell_type": "markdown",
   "metadata": {},
   "source": [
    "## Upload data"
   ]
  },
  {
   "cell_type": "markdown",
   "metadata": {
    "heading_collapsed": true
   },
   "source": [
    "## Taxonomic classification"
   ]
  },
  {
   "cell_type": "markdown",
   "metadata": {},
   "source": [
    "## log-contrast and taxa processing"
   ]
  },
  {
   "cell_type": "code",
   "execution_count": 11,
   "metadata": {
    "ExecuteTime": {
     "end_time": "2020-11-11T10:51:39.336291Z",
     "start_time": "2020-11-11T10:50:35.591326Z"
    }
   },
   "outputs": [
    {
     "name": "stdout",
     "output_type": "stream",
     "text": [
      "\u001b[32mSaved FeatureTable[Frequency] to: genus_table.qza\u001b[0m\n",
      "\u001b[32mSaved FeatureTable[Design] to: genus_table_clr.qza\u001b[0m\n",
      "\u001b[32mSaved FeatureTable[Design] to: xclr.qza\u001b[0m\n",
      "\u001b[32mSaved FeatureTable[Design] to: xtaxa.qza\u001b[0m\n",
      "\u001b[32mSaved Weights to: wtaxa.qza\u001b[0m\n"
     ]
    }
   ],
   "source": [
    "qiime taxa collapse --i-table table.qza \\\n",
    "  --i-taxonomy taxonomy.qza \\\n",
    "  --p-level 6 \\\n",
    "  --o-collapsed-table genus_table.qza\n",
    "\n",
    "qiime classo transform-features \\\n",
    "     --p-transformation clr \\\n",
    "     --p-coef 0.5 \\\n",
    "     --i-features genus_table.qza \\\n",
    "     --o-x genus_table_clr\n",
    "     \n",
    " qiime classo transform-features \\\n",
    "     --p-transformation clr \\\n",
    "     --p-coef 0.5 \\\n",
    "     --i-features table.qza \\\n",
    "     --o-x xclr\n",
    "     \n",
    "    \n",
    "qiime classo add-taxa \\\n",
    "\t--i-features xclr.qza  \\\n",
    "\t--i-taxa taxonomy.qza \\\n",
    "\t--o-x xtaxa --o-aweights wtaxa\n",
    "\n"
   ]
  },
  {
   "cell_type": "markdown",
   "metadata": {},
   "source": [
    "## Add covariates"
   ]
  },
  {
   "cell_type": "code",
   "execution_count": 125,
   "metadata": {
    "ExecuteTime": {
     "end_time": "2020-11-11T16:38:25.464951Z",
     "start_time": "2020-11-11T16:38:08.007150Z"
    },
    "scrolled": false
   },
   "outputs": [
    {
     "name": "stdout",
     "output_type": "stream",
     "text": [
      "\u001b[32mSaved FeatureTable[Design] to: xcovariates.qza\u001b[0m\n",
      "\u001b[32mSaved ConstraintMatrix to: ccovariates.qza\u001b[0m\n",
      "\u001b[32mSaved Weights to: wcovariates.qza\u001b[0m\n"
     ]
    }
   ],
   "source": [
    "qiime classo add-covariates \\\n",
    "    --i-features xtaxa.qza \\\n",
    "    --i-weights wtaxa.qza \\\n",
    "    --m-covariates-file sample-metadata-complete.tsv \\\n",
    "    --p-to-add host_sexual_orientation host_age host_body_mass_index ethnicity \\\n",
    "    --p-w-to-add 0.5 0.5 0.5 0.5 \\\n",
    "    --o-new-features xcovariates \\\n",
    "    --o-new-c ccovariates \\\n",
    "    --o-new-w wcovariates \\\n",
    "    --verbose"
   ]
  },
  {
   "cell_type": "markdown",
   "metadata": {},
   "source": [
    "## Split table"
   ]
  },
  {
   "cell_type": "markdown",
   "metadata": {},
   "source": [
    "Split data into training and testing sets : "
   ]
  },
  {
   "cell_type": "code",
   "execution_count": 126,
   "metadata": {
    "ExecuteTime": {
     "end_time": "2020-11-11T16:38:39.544543Z",
     "start_time": "2020-11-11T16:38:25.468979Z"
    }
   },
   "outputs": [
    {
     "name": "stdout",
     "output_type": "stream",
     "text": [
      "\u001b[32mSaved FeatureTable[Design] to: xtraining.qza\u001b[0m\n",
      "\u001b[32mSaved FeatureTable[Design] to: xtest.qza\u001b[0m\n"
     ]
    }
   ],
   "source": [
    "qiime sample-classifier split-table \\\n",
    "\t--i-table xcovariates.qza \\\n",
    "\t--m-metadata-file sample-metadata-complete.tsv \\\n",
    "\t--m-metadata-column sCD14  \\\n",
    "\t--p-test-size 0.2 \\\n",
    "\t--p-random-state 123 \\\n",
    "\t--p-stratify False \\\n",
    "\t--o-training-table xtraining \\\n",
    "\t--o-test-table xtest"
   ]
  },
  {
   "cell_type": "markdown",
   "metadata": {},
   "source": [
    "## Regression task "
   ]
  },
  {
   "cell_type": "markdown",
   "metadata": {},
   "source": [
    "Apply classo to the training set to solve the linear regression problem : "
   ]
  },
  {
   "cell_type": "code",
   "execution_count": 127,
   "metadata": {
    "ExecuteTime": {
     "end_time": "2020-11-11T16:39:26.743899Z",
     "start_time": "2020-11-11T16:38:39.549740Z"
    },
    "run_control": {
     "marked": false
    },
    "scrolled": true
   },
   "outputs": [
    {
     "name": "stdout",
     "output_type": "stream",
     "text": [
      "\u001b[32mSaved CLASSOProblem to: regresstaxa.qza\u001b[0m\n"
     ]
    }
   ],
   "source": [
    "qiime classo regress  \\\n",
    "    --i-features xtraining.qza \\\n",
    "    --i-c ccovariates.qza \\\n",
    "    --i-weights wcovariates.qza \\\n",
    "    --m-y-file sample-metadata-complete.tsv \\\n",
    "    --m-y-column sCD14  \\\n",
    "    --p-concomitant False \\\n",
    "    --p-stabsel False \\\n",
    "    --p-cv True \\\n",
    "    --p-path True \\\n",
    "    --p-lamfixed True \\\n",
    "    --p-stabsel-threshold 0.5 \\\n",
    "    --p-cv-seed 1 \\\n",
    "    --p-cv-one-se False \\\n",
    "    --o-result regresstaxa"
   ]
  },
  {
   "cell_type": "markdown",
   "metadata": {},
   "source": [
    "## Classification task"
   ]
  },
  {
   "cell_type": "code",
   "execution_count": 128,
   "metadata": {
    "ExecuteTime": {
     "end_time": "2020-11-11T16:44:07.734020Z",
     "start_time": "2020-11-11T16:39:26.748524Z"
    }
   },
   "outputs": [
    {
     "name": "stdout",
     "output_type": "stream",
     "text": [
      "\u001b[32mSaved CLASSOProblem to: classifytaxa.qza\u001b[0m\n"
     ]
    }
   ],
   "source": [
    "qiime classo classify  \\\n",
    "    --i-features xtraining.qza \\\n",
    "    --i-c ccovariates.qza \\\n",
    "    --i-weights wcovariates.qza \\\n",
    "    --m-y-file sample-metadata-complete.tsv \\\n",
    "    --m-y-column HIV_serostatus  \\\n",
    "    --p-stabsel False \\\n",
    "    --p-cv True \\\n",
    "    --p-path True \\\n",
    "    --p-lamfixed True \\\n",
    "    --p-stabsel-threshold 0.5 \\\n",
    "    --p-cv-seed 1 \\\n",
    "    --p-cv-one-se False \\\n",
    "    --o-result classifytaxa"
   ]
  },
  {
   "cell_type": "markdown",
   "metadata": {},
   "source": [
    "## Prediction "
   ]
  },
  {
   "cell_type": "code",
   "execution_count": 129,
   "metadata": {
    "ExecuteTime": {
     "end_time": "2020-11-11T16:44:25.317681Z",
     "start_time": "2020-11-11T16:44:07.738074Z"
    }
   },
   "outputs": [
    {
     "name": "stdout",
     "output_type": "stream",
     "text": [
      "\u001b[32mSaved CLASSOProblem to: regress-predictions.qza\u001b[0m\n"
     ]
    }
   ],
   "source": [
    "qiime classo predict \\\n",
    "    --i-features xtest.qza \\\n",
    "    --i-problem regresstaxa.qza \\\n",
    "    --o-predictions regress-predictions.qza"
   ]
  },
  {
   "cell_type": "code",
   "execution_count": 130,
   "metadata": {
    "ExecuteTime": {
     "end_time": "2020-11-11T16:44:32.818079Z",
     "start_time": "2020-11-11T16:44:25.321505Z"
    }
   },
   "outputs": [
    {
     "name": "stdout",
     "output_type": "stream",
     "text": [
      "\u001b[32mSaved CLASSOProblem to: classify-predictions.qza\u001b[0m\n"
     ]
    }
   ],
   "source": [
    "qiime classo predict \\\n",
    "    --i-features xtest.qza \\\n",
    "    --i-problem classifytaxa.qza \\\n",
    "    --o-predictions classify-predictions.qza"
   ]
  },
  {
   "cell_type": "markdown",
   "metadata": {},
   "source": [
    "## Visualization"
   ]
  },
  {
   "cell_type": "code",
   "execution_count": 131,
   "metadata": {
    "ExecuteTime": {
     "end_time": "2020-11-11T16:44:54.789191Z",
     "start_time": "2020-11-11T16:44:32.821888Z"
    },
    "run_control": {
     "marked": false
    }
   },
   "outputs": [
    {
     "name": "stdout",
     "output_type": "stream",
     "text": [
      "\u001b[32mSaved Visualization to: regresstaxa.qzv\u001b[0m\n"
     ]
    }
   ],
   "source": [
    "qiime classo summarize \\\n",
    "  --i-problem regresstaxa.qza \\\n",
    "  --i-taxa taxonomy.qza \\\n",
    "  --i-predictions regress-predictions.qza \\\n",
    "  --o-visualization regresstaxa.qzv"
   ]
  },
  {
   "cell_type": "code",
   "execution_count": 132,
   "metadata": {
    "ExecuteTime": {
     "end_time": "2020-11-11T16:45:22.430089Z",
     "start_time": "2020-11-11T16:44:54.794648Z"
    }
   },
   "outputs": [
    {
     "name": "stdout",
     "output_type": "stream",
     "text": [
      "\u001b[32mSaved Visualization to: classifytaxa.qzv\u001b[0m\n"
     ]
    }
   ],
   "source": [
    "qiime classo summarize \\\n",
    "  --i-problem classifytaxa.qza \\\n",
    "  --i-taxa taxonomy.qza \\\n",
    "  --i-predictions classify-predictions.qza \\\n",
    "  --o-visualization classifytaxa.qzv"
   ]
  },
  {
   "cell_type": "code",
   "execution_count": 133,
   "metadata": {
    "ExecuteTime": {
     "end_time": "2020-11-11T16:47:47.968921Z",
     "start_time": "2020-11-11T16:45:22.434497Z"
    }
   },
   "outputs": [
    {
     "name": "stdout",
     "output_type": "stream",
     "text": [
      "Press the 'q' key, Control-C, or Control-D to quit. This view may no longer be accessible or work correctly after quitting."
     ]
    }
   ],
   "source": [
    "qiime tools view regresstaxa.qzv"
   ]
  },
  {
   "cell_type": "code",
   "execution_count": 134,
   "metadata": {
    "ExecuteTime": {
     "end_time": "2020-11-11T16:50:30.504339Z",
     "start_time": "2020-11-11T16:47:47.972160Z"
    }
   },
   "outputs": [
    {
     "name": "stdout",
     "output_type": "stream",
     "text": [
      "Press the 'q' key, Control-C, or Control-D to quit. This view may no longer be accessible or work correctly after quitting."
     ]
    }
   ],
   "source": [
    "qiime tools view classifytaxa.qzv"
   ]
  },
  {
   "cell_type": "markdown",
   "metadata": {},
   "source": [
    "Alternatively, one can drag&drop the file problemtaxa.qzv on : https://view.qiime2.org\n",
    "Thanks to this alternative, one can also track the workflow that the qiime2 artifact did. "
   ]
  }
 ],
 "metadata": {
  "kernelspec": {
   "display_name": "Bash",
   "language": "bash",
   "name": "bash"
  },
  "language_info": {
   "codemirror_mode": "shell",
   "file_extension": ".sh",
   "mimetype": "text/x-sh",
   "name": "bash"
  },
  "toc": {
   "base_numbering": 1,
   "nav_menu": {},
   "number_sections": true,
   "sideBar": true,
   "skip_h1_title": false,
   "title_cell": "Table of Contents",
   "title_sidebar": "Contents",
   "toc_cell": false,
   "toc_position": {},
   "toc_section_display": true,
   "toc_window_display": false
  }
 },
 "nbformat": 4,
 "nbformat_minor": 4
}
