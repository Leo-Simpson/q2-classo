{
 "cells": [
  {
   "cell_type": "markdown",
   "metadata": {
    "ExecuteTime": {
     "end_time": "2020-11-06T08:22:14.807224Z",
     "start_time": "2020-11-06T08:22:14.697114Z"
    }
   },
   "source": [
    "# QIIME 2 enables comprehensive end-to-end analysis of diverse microbiome data and comparative studies with publicly available data\n",
    "\n",
    "this is a QIIME 2 Artifact CLI notebook which replicated analyses in the QIIME 2 protocol\n",
    "\n",
    "**environment:** qiime2-2020.2"
   ]
  },
  {
   "cell_type": "code",
   "execution_count": null,
   "metadata": {
    "ExecuteTime": {
     "end_time": "2020-11-11T19:19:29.773225Z",
     "start_time": "2020-11-11T19:19:25.527921Z"
    },
    "scrolled": true
   },
   "outputs": [],
   "source": [
    "pip install --upgrade c-lasso"
   ]
  },
  {
   "cell_type": "code",
   "execution_count": null,
   "metadata": {
    "ExecuteTime": {
     "end_time": "2020-11-06T09:11:30.793410Z",
     "start_time": "2020-11-06T09:11:27.713906Z"
    },
    "deletable": false,
    "editable": false,
    "run_control": {
     "frozen": true
    }
   },
   "outputs": [],
   "source": [
    "pip install c-lasso\n",
    "\n",
    "pip install zarr\n",
    "\n",
    "pip install plotly"
   ]
  },
  {
   "cell_type": "code",
   "execution_count": 6,
   "metadata": {
    "ExecuteTime": {
     "end_time": "2020-11-11T18:42:14.369737Z",
     "start_time": "2020-11-11T18:42:14.259043Z"
    }
   },
   "outputs": [],
   "source": [
    "cd .."
   ]
  },
  {
   "cell_type": "code",
   "execution_count": 66,
   "metadata": {
    "ExecuteTime": {
     "end_time": "2020-11-12T08:21:31.228647Z",
     "start_time": "2020-11-12T08:21:31.109919Z"
    }
   },
   "outputs": [
    {
     "name": "stdout",
     "output_type": "stream",
     "text": [
      "ccovariates.qza\t\t\trep-seqs.qzv\n",
      "classify-predictions.qza\tsample-metadata-complete.tsv\n",
      "classify-xtest.qza\t\ttable.qza\n",
      "classify-xtraining.qza\t\ttable.qzv\n",
      "classifytaxa.qza\t\ttaxonomy.qza\n",
      "classifytaxa.qzv\t\ttaxonomy.qzv\n",
      "features-test.qza\t\twcovariates.qza\n",
      "filtered-table.qza\t\twtaxa.qza\n",
      "genus_table.qza\t\t\txclr.qza\n",
      "genus_table_clr.qza\t\txcovariates.qza\n",
      "regress-predictions.qza\t\txtaxa.qza\n",
      "regresstaxa.qza\t\t\txtest.qza\n",
      "regresstaxa.qzv\t\t\txtraining.qza\n",
      "rep-seqs.qza\n"
     ]
    }
   ],
   "source": [
    "ls"
   ]
  },
  {
   "cell_type": "code",
   "execution_count": 67,
   "metadata": {
    "ExecuteTime": {
     "end_time": "2020-11-12T08:21:31.343297Z",
     "start_time": "2020-11-12T08:21:31.231149Z"
    }
   },
   "outputs": [
    {
     "name": "stdout",
     "output_type": "stream",
     "text": [
      "bash: cd: GitHub/q2-classo/: No such file or directory\n"
     ]
    },
    {
     "ename": "",
     "evalue": "1",
     "output_type": "error",
     "traceback": []
    }
   ],
   "source": [
    "cd GitHub/q2-classo/"
   ]
  },
  {
   "cell_type": "code",
   "execution_count": 98,
   "metadata": {
    "ExecuteTime": {
     "end_time": "2020-11-11T16:08:26.433259Z",
     "start_time": "2020-11-11T16:08:18.461788Z"
    },
    "collapsed": true,
    "deletable": false,
    "editable": false,
    "run_control": {
     "frozen": true
    }
   },
   "outputs": [
    {
     "name": "stdout",
     "output_type": "stream",
     "text": [
      "running install\n",
      "running bdist_egg\n",
      "running egg_info\n",
      "writing q2_classo.egg-info/PKG-INFO\n",
      "writing dependency_links to q2_classo.egg-info/dependency_links.txt\n",
      "writing entry points to q2_classo.egg-info/entry_points.txt\n",
      "writing top-level names to q2_classo.egg-info/top_level.txt\n",
      "reading manifest file 'q2_classo.egg-info/SOURCES.txt'\n",
      "writing manifest file 'q2_classo.egg-info/SOURCES.txt'\n",
      "installing library code to build/bdist.macosx-10.9-x86_64/egg\n",
      "running install_lib\n",
      "running build_py\n",
      "copying q2_classo/_func.py -> build/lib/q2_classo\n",
      "copying q2_classo/plugin_setup.py -> build/lib/q2_classo\n",
      "copying q2_classo/_tree.py -> build/lib/q2_classo\n",
      "copying q2_classo/_summarize/_visualizer.py -> build/lib/q2_classo/_summarize\n",
      "copying q2_classo/_summarize/assets/cv.html -> build/lib/q2_classo/_summarize/assets\n",
      "copying q2_classo/_summarize/assets/lam-fixed.html -> build/lib/q2_classo/_summarize/assets\n",
      "copying q2_classo/_summarize/assets/stabsel.html -> build/lib/q2_classo/_summarize/assets\n",
      "creating build/bdist.macosx-10.9-x86_64/egg\n",
      "creating build/bdist.macosx-10.9-x86_64/egg/q2_classo\n",
      "copying build/lib/q2_classo/_func.py -> build/bdist.macosx-10.9-x86_64/egg/q2_classo\n",
      "copying build/lib/q2_classo/_dict.py -> build/bdist.macosx-10.9-x86_64/egg/q2_classo\n",
      "copying build/lib/q2_classo/plugin_setup.py -> build/bdist.macosx-10.9-x86_64/egg/q2_classo\n",
      "copying build/lib/q2_classo/__init__.py -> build/bdist.macosx-10.9-x86_64/egg/q2_classo\n",
      "copying build/lib/q2_classo/citations.bib -> build/bdist.macosx-10.9-x86_64/egg/q2_classo\n",
      "creating build/bdist.macosx-10.9-x86_64/egg/q2_classo/_summarize\n",
      "creating build/bdist.macosx-10.9-x86_64/egg/q2_classo/_summarize/form\n",
      "copying build/lib/q2_classo/_summarize/form/R2.png -> build/bdist.macosx-10.9-x86_64/egg/q2_classo/_summarize/form\n",
      "copying build/lib/q2_classo/_summarize/form/R3.png -> build/bdist.macosx-10.9-x86_64/egg/q2_classo/_summarize/form\n",
      "copying build/lib/q2_classo/_summarize/form/R1.png -> build/bdist.macosx-10.9-x86_64/egg/q2_classo/_summarize/form\n",
      "copying build/lib/q2_classo/_summarize/form/R4.png -> build/bdist.macosx-10.9-x86_64/egg/q2_classo/_summarize/form\n",
      "copying build/lib/q2_classo/_summarize/form/C1.png -> build/bdist.macosx-10.9-x86_64/egg/q2_classo/_summarize/form\n",
      "copying build/lib/q2_classo/_summarize/form/C2.png -> build/bdist.macosx-10.9-x86_64/egg/q2_classo/_summarize/form\n",
      "copying build/lib/q2_classo/_summarize/__init__.py -> build/bdist.macosx-10.9-x86_64/egg/q2_classo/_summarize\n",
      "copying build/lib/q2_classo/_summarize/_visualizer.py -> build/bdist.macosx-10.9-x86_64/egg/q2_classo/_summarize\n",
      "creating build/bdist.macosx-10.9-x86_64/egg/q2_classo/_summarize/assets\n",
      "copying build/lib/q2_classo/_summarize/assets/index.html -> build/bdist.macosx-10.9-x86_64/egg/q2_classo/_summarize/assets\n",
      "copying build/lib/q2_classo/_summarize/assets/overview.html -> build/bdist.macosx-10.9-x86_64/egg/q2_classo/_summarize/assets\n",
      "copying build/lib/q2_classo/_summarize/assets/cv.html -> build/bdist.macosx-10.9-x86_64/egg/q2_classo/_summarize/assets\n",
      "copying build/lib/q2_classo/_summarize/assets/lam-fixed.html -> build/bdist.macosx-10.9-x86_64/egg/q2_classo/_summarize/assets\n",
      "copying build/lib/q2_classo/_summarize/assets/stabsel.html -> build/bdist.macosx-10.9-x86_64/egg/q2_classo/_summarize/assets\n",
      "copying build/lib/q2_classo/_summarize/assets/path.html -> build/bdist.macosx-10.9-x86_64/egg/q2_classo/_summarize/assets\n",
      "copying build/lib/q2_classo/_formats.py -> build/bdist.macosx-10.9-x86_64/egg/q2_classo\n",
      "copying build/lib/q2_classo/_tree.py -> build/bdist.macosx-10.9-x86_64/egg/q2_classo\n",
      "byte-compiling build/bdist.macosx-10.9-x86_64/egg/q2_classo/_func.py to _func.cpython-36.pyc\n",
      "byte-compiling build/bdist.macosx-10.9-x86_64/egg/q2_classo/_dict.py to _dict.cpython-36.pyc\n",
      "byte-compiling build/bdist.macosx-10.9-x86_64/egg/q2_classo/plugin_setup.py to plugin_setup.cpython-36.pyc\n",
      "byte-compiling build/bdist.macosx-10.9-x86_64/egg/q2_classo/__init__.py to __init__.cpython-36.pyc\n",
      "byte-compiling build/bdist.macosx-10.9-x86_64/egg/q2_classo/_summarize/__init__.py to __init__.cpython-36.pyc\n",
      "byte-compiling build/bdist.macosx-10.9-x86_64/egg/q2_classo/_summarize/_visualizer.py to _visualizer.cpython-36.pyc\n",
      "byte-compiling build/bdist.macosx-10.9-x86_64/egg/q2_classo/_formats.py to _formats.cpython-36.pyc\n",
      "byte-compiling build/bdist.macosx-10.9-x86_64/egg/q2_classo/_tree.py to _tree.cpython-36.pyc\n",
      "creating build/bdist.macosx-10.9-x86_64/egg/EGG-INFO\n",
      "copying q2_classo.egg-info/PKG-INFO -> build/bdist.macosx-10.9-x86_64/egg/EGG-INFO\n",
      "copying q2_classo.egg-info/SOURCES.txt -> build/bdist.macosx-10.9-x86_64/egg/EGG-INFO\n",
      "copying q2_classo.egg-info/dependency_links.txt -> build/bdist.macosx-10.9-x86_64/egg/EGG-INFO\n",
      "copying q2_classo.egg-info/entry_points.txt -> build/bdist.macosx-10.9-x86_64/egg/EGG-INFO\n",
      "copying q2_classo.egg-info/not-zip-safe -> build/bdist.macosx-10.9-x86_64/egg/EGG-INFO\n",
      "copying q2_classo.egg-info/top_level.txt -> build/bdist.macosx-10.9-x86_64/egg/EGG-INFO\n",
      "creating 'dist/q2_classo-0.0.0.dev0-py3.6.egg' and adding 'build/bdist.macosx-10.9-x86_64/egg' to it\n",
      "removing 'build/bdist.macosx-10.9-x86_64/egg' (and everything under it)\n",
      "Processing q2_classo-0.0.0.dev0-py3.6.egg\n",
      "creating /Users/lsimpson/anaconda3/envs/qiime2-2020.11/lib/python3.6/site-packages/q2_classo-0.0.0.dev0-py3.6.egg\n",
      "Extracting q2_classo-0.0.0.dev0-py3.6.egg to /Users/lsimpson/anaconda3/envs/qiime2-2020.11/lib/python3.6/site-packages\n",
      "Removing q2-classo 0.0.0.dev0 from easy-install.pth file\n",
      "Adding q2-classo 0.0.0.dev0 to easy-install.pth file\n",
      "\n",
      "Installed /Users/lsimpson/anaconda3/envs/qiime2-2020.11/lib/python3.6/site-packages/q2_classo-0.0.0.dev0-py3.6.egg\n",
      "Processing dependencies for q2-classo==0.0.0.dev0\n",
      "Finished processing dependencies for q2-classo==0.0.0.dev0\n",
      "Obtaining file:///Users/lsimpson/Desktop/GitHub/q2-classo\n",
      "Installing collected packages: q2-classo\n",
      "  Attempting uninstall: q2-classo\n",
      "    Found existing installation: q2-classo 0.0.0.dev0\n",
      "    Uninstalling q2-classo-0.0.0.dev0:\n",
      "      Successfully uninstalled q2-classo-0.0.0.dev0\n",
      "  Running setup.py develop for q2-classo\n",
      "Successfully installed q2-classo\n"
     ]
    }
   ],
   "source": [
    "python setup.py install\n",
    "\n",
    "pip install -e ."
   ]
  },
  {
   "cell_type": "code",
   "execution_count": 122,
   "metadata": {
    "ExecuteTime": {
     "end_time": "2020-11-12T09:30:54.477584Z",
     "start_time": "2020-11-12T09:30:38.845377Z"
    },
    "scrolled": false
   },
   "outputs": [
    {
     "name": "stdout",
     "output_type": "stream",
     "text": [
      "\u001b[33mQIIME is caching your current deployment for improved performance. This may take a few moments and should only happen once per deployment.\u001b[0m\n"
     ]
    }
   ],
   "source": [
    "qiime dev refresh-cache"
   ]
  },
  {
   "cell_type": "code",
   "execution_count": null,
   "metadata": {
    "ExecuteTime": {
     "end_time": "2020-11-12T08:21:31.349151Z",
     "start_time": "2020-11-12T08:21:31.123Z"
    }
   },
   "outputs": [],
   "source": [
    "cd example/Data"
   ]
  },
  {
   "cell_type": "markdown",
   "metadata": {},
   "source": [
    "## Filter features"
   ]
  },
  {
   "cell_type": "code",
   "execution_count": 69,
   "metadata": {
    "ExecuteTime": {
     "end_time": "2020-11-12T08:22:24.973230Z",
     "start_time": "2020-11-12T08:22:10.376098Z"
    }
   },
   "outputs": [
    {
     "name": "stdout",
     "output_type": "stream",
     "text": [
      "\u001b[32mSaved FeatureTable[Frequency] to: filtered-table.qza\u001b[0m\n"
     ]
    }
   ],
   "source": [
    "qiime feature-table filter-features \\\n",
    "  --i-table table.qza \\\n",
    "  --p-min-samples 20 \\\n",
    "  --o-filtered-table filtered-table.qza"
   ]
  },
  {
   "cell_type": "markdown",
   "metadata": {},
   "source": [
    "## log-contrast and taxa processing"
   ]
  },
  {
   "cell_type": "markdown",
   "metadata": {},
   "source": [
    "Either collapse at genus level, which is the 'easy way', but not really what we want"
   ]
  },
  {
   "cell_type": "code",
   "execution_count": null,
   "metadata": {
    "ExecuteTime": {
     "end_time": "2020-11-11T18:42:11.882147Z",
     "start_time": "2020-11-11T18:41:56.111Z"
    }
   },
   "outputs": [],
   "source": [
    "qiime taxa collapse --i-table table.qza \\\n",
    "  --i-taxonomy taxonomy.qza \\\n",
    "  --p-level 6 \\\n",
    "  --o-collapsed-table genus_table.qza\n",
    "\n",
    "qiime classo transform-features \\\n",
    "     --p-transformation clr \\\n",
    "     --p-coef 0.5 \\\n",
    "     --i-features genus_table.qza \\\n",
    "     --o-x genus_table_clr"
   ]
  },
  {
   "cell_type": "code",
   "execution_count": 70,
   "metadata": {
    "ExecuteTime": {
     "end_time": "2020-11-12T08:24:03.291468Z",
     "start_time": "2020-11-12T08:23:32.839726Z"
    }
   },
   "outputs": [
    {
     "name": "stdout",
     "output_type": "stream",
     "text": [
      "\u001b[32mSaved FeatureTable[Design] to: xclr.qza\u001b[0m\n",
      "\u001b[32mSaved FeatureTable[Design] to: xtaxa.qza\u001b[0m\n",
      "\u001b[32mSaved Weights to: wtaxa.qza\u001b[0m\n"
     ]
    }
   ],
   "source": [
    " qiime classo transform-features \\\n",
    "     --p-transformation clr \\\n",
    "     --p-coef 0.5 \\\n",
    "     --i-features filtered-table.qza \\\n",
    "     --o-x xclr\n",
    "     \n",
    "    \n",
    "qiime classo add-taxa \\\n",
    "\t--i-features xclr.qza  \\\n",
    "\t--i-taxa taxonomy.qza \\\n",
    "\t--o-x xtaxa --o-aweights wtaxa"
   ]
  },
  {
   "cell_type": "markdown",
   "metadata": {},
   "source": [
    "## Add covariates"
   ]
  },
  {
   "cell_type": "code",
   "execution_count": 71,
   "metadata": {
    "ExecuteTime": {
     "end_time": "2020-11-12T08:26:04.915359Z",
     "start_time": "2020-11-12T08:25:48.931629Z"
    },
    "scrolled": false
   },
   "outputs": [
    {
     "name": "stdout",
     "output_type": "stream",
     "text": [
      "\u001b[32mSaved FeatureTable[Design] to: xcovariates.qza\u001b[0m\n",
      "\u001b[32mSaved ConstraintMatrix to: ccovariates.qza\u001b[0m\n",
      "\u001b[32mSaved Weights to: wcovariates.qza\u001b[0m\n"
     ]
    }
   ],
   "source": [
    "qiime classo add-covariates \\\n",
    "    --i-features xtaxa.qza \\\n",
    "    --i-weights wtaxa.qza \\\n",
    "    --m-covariates-file sample-metadata-complete.tsv \\\n",
    "    --p-to-add host_sexual_orientation host_age host_body_mass_index ethnicity \\\n",
    "    --p-w-to-add 0.1 1. 1. 0.1 \\\n",
    "    --o-new-features xcovariates \\\n",
    "    --o-new-c ccovariates \\\n",
    "    --o-new-w wcovariates"
   ]
  },
  {
   "cell_type": "markdown",
   "metadata": {},
   "source": [
    "## Split table"
   ]
  },
  {
   "cell_type": "markdown",
   "metadata": {},
   "source": [
    "Split data into training and testing sets : "
   ]
  },
  {
   "cell_type": "code",
   "execution_count": 72,
   "metadata": {
    "ExecuteTime": {
     "end_time": "2020-11-12T08:26:20.484160Z",
     "start_time": "2020-11-12T08:26:05.260118Z"
    }
   },
   "outputs": [
    {
     "name": "stdout",
     "output_type": "stream",
     "text": [
      "\u001b[32mSaved FeatureTable[Design] to: regress-xtraining.qza\u001b[0m\n",
      "\u001b[32mSaved FeatureTable[Design] to: regress-xtest.qza\u001b[0m\n"
     ]
    }
   ],
   "source": [
    "qiime sample-classifier split-table \\\n",
    "\t--i-table xcovariates.qza \\\n",
    "\t--m-metadata-file sample-metadata-complete.tsv \\\n",
    "\t--m-metadata-column sCD14  \\\n",
    "\t--p-test-size 0.2 \\\n",
    "\t--p-random-state 42 \\\n",
    "\t--p-stratify False \\\n",
    "\t--o-training-table regress-xtraining \\\n",
    "\t--o-test-table regress-xtest"
   ]
  },
  {
   "cell_type": "code",
   "execution_count": 73,
   "metadata": {
    "ExecuteTime": {
     "end_time": "2020-11-12T08:26:34.741744Z",
     "start_time": "2020-11-12T08:26:20.486747Z"
    }
   },
   "outputs": [
    {
     "name": "stdout",
     "output_type": "stream",
     "text": [
      "\u001b[32mSaved FeatureTable[Design] to: classify-xtraining.qza\u001b[0m\n",
      "\u001b[32mSaved FeatureTable[Design] to: classify-xtest.qza\u001b[0m\n"
     ]
    }
   ],
   "source": [
    "qiime sample-classifier split-table \\\n",
    "\t--i-table xcovariates.qza \\\n",
    "\t--m-metadata-file sample-metadata-complete.tsv \\\n",
    "\t--m-metadata-column HIV_serostatus  \\\n",
    "\t--p-test-size 0.2 \\\n",
    "\t--p-random-state 42 \\\n",
    "\t--p-stratify False \\\n",
    "\t--o-training-table classify-xtraining \\\n",
    "\t--o-test-table classify-xtest"
   ]
  },
  {
   "cell_type": "markdown",
   "metadata": {},
   "source": [
    "## Regression task "
   ]
  },
  {
   "cell_type": "markdown",
   "metadata": {},
   "source": [
    "Apply classo to the training set to solve the linear regression problem : "
   ]
  },
  {
   "cell_type": "code",
   "execution_count": 88,
   "metadata": {
    "ExecuteTime": {
     "end_time": "2020-11-12T08:35:48.304628Z",
     "start_time": "2020-11-12T08:35:30.825761Z"
    },
    "run_control": {
     "marked": false
    },
    "scrolled": true
   },
   "outputs": [
    {
     "name": "stdout",
     "output_type": "stream",
     "text": [
      "\u001b[32mSaved CLASSOProblem to: regresstaxa.qza\u001b[0m\n"
     ]
    }
   ],
   "source": [
    "qiime classo regress  \\\n",
    "    --i-features regress-xtraining.qza \\\n",
    "    --i-c ccovariates.qza \\\n",
    "    --i-weights wcovariates.qza \\\n",
    "    --m-y-file sample-metadata-complete.tsv \\\n",
    "    --m-y-column sCD14  \\\n",
    "    --p-concomitant \\\n",
    "    --p-stabsel \\\n",
    "    --p-cv \\\n",
    "    --p-path \\\n",
    "    --p-lamfixed \\\n",
    "    --p-stabsel-threshold 0.5 \\\n",
    "    --p-cv-seed 1 \\\n",
    "    --p-no-cv-one-se \\\n",
    "    --o-result regresstaxa"
   ]
  },
  {
   "cell_type": "markdown",
   "metadata": {},
   "source": [
    "## Classification task"
   ]
  },
  {
   "cell_type": "code",
   "execution_count": 126,
   "metadata": {
    "ExecuteTime": {
     "end_time": "2020-11-12T09:40:23.516321Z",
     "start_time": "2020-11-12T09:39:57.481387Z"
    }
   },
   "outputs": [
    {
     "name": "stdout",
     "output_type": "stream",
     "text": [
      "\u001b[32mSaved CLASSOProblem to: classifytaxa.qza\u001b[0m\n"
     ]
    }
   ],
   "source": [
    "qiime classo classify  \\\n",
    "    --i-features classify-xtraining.qza \\\n",
    "    --i-c ccovariates.qza \\\n",
    "    --i-weights wcovariates.qza \\\n",
    "    --m-y-file sample-metadata-complete.tsv \\\n",
    "    --m-y-column HIV_serostatus  \\\n",
    "    --p-huber \\\n",
    "    --p-stabsel \\\n",
    "    --p-cv \\\n",
    "    --p-path \\\n",
    "    --p-lamfixed \\\n",
    "    --p-stabsel-threshold 0.5 \\\n",
    "    --p-cv-seed 42 \\\n",
    "    --p-no-cv-one-se \\\n",
    "    --o-result classifytaxa"
   ]
  },
  {
   "cell_type": "markdown",
   "metadata": {},
   "source": [
    "## Prediction "
   ]
  },
  {
   "cell_type": "code",
   "execution_count": 106,
   "metadata": {
    "ExecuteTime": {
     "end_time": "2020-11-12T09:07:42.041016Z",
     "start_time": "2020-11-12T09:07:29.409186Z"
    }
   },
   "outputs": [
    {
     "name": "stdout",
     "output_type": "stream",
     "text": [
      "\u001b[32mSaved CLASSOProblem to: regress-predictions.qza\u001b[0m\n"
     ]
    }
   ],
   "source": [
    "qiime classo predict \\\n",
    "    --i-features regress-xtest.qza \\\n",
    "    --i-problem regresstaxa.qza \\\n",
    "    --o-predictions regress-predictions.qza"
   ]
  },
  {
   "cell_type": "code",
   "execution_count": 127,
   "metadata": {
    "ExecuteTime": {
     "end_time": "2020-11-12T09:40:32.793802Z",
     "start_time": "2020-11-12T09:40:23.520747Z"
    },
    "scrolled": true
   },
   "outputs": [
    {
     "name": "stdout",
     "output_type": "stream",
     "text": [
      "\u001b[32mSaved CLASSOProblem to: classify-predictions.qza\u001b[0m\n"
     ]
    }
   ],
   "source": [
    "qiime classo predict \\\n",
    "    --i-features classify-xtest.qza \\\n",
    "    --i-problem classifytaxa.qza \\\n",
    "    --o-predictions classify-predictions.qza"
   ]
  },
  {
   "cell_type": "markdown",
   "metadata": {},
   "source": [
    "## Visualization"
   ]
  },
  {
   "cell_type": "code",
   "execution_count": 92,
   "metadata": {
    "ExecuteTime": {
     "end_time": "2020-11-12T08:37:42.235263Z",
     "start_time": "2020-11-12T08:37:15.160990Z"
    },
    "run_control": {
     "marked": false
    }
   },
   "outputs": [
    {
     "name": "stdout",
     "output_type": "stream",
     "text": [
      "\u001b[32mSaved Visualization to: regresstaxa.qzv\u001b[0m\n"
     ]
    }
   ],
   "source": [
    "qiime classo summarize \\\n",
    "  --i-problem regresstaxa.qza \\\n",
    "  --i-taxa taxonomy.qza \\\n",
    "  --i-predictions regress-predictions.qza \\\n",
    "  --o-visualization regresstaxa.qzv"
   ]
  },
  {
   "cell_type": "code",
   "execution_count": 128,
   "metadata": {
    "ExecuteTime": {
     "end_time": "2020-11-12T09:40:55.071212Z",
     "start_time": "2020-11-12T09:40:32.798856Z"
    },
    "scrolled": true
   },
   "outputs": [
    {
     "name": "stdout",
     "output_type": "stream",
     "text": [
      "\u001b[32mSaved Visualization to: classifytaxa.qzv\u001b[0m\n"
     ]
    }
   ],
   "source": [
    "qiime classo summarize \\\n",
    "  --i-problem classifytaxa.qza \\\n",
    "  --i-taxa taxonomy.qza \\\n",
    "  --i-predictions classify-predictions.qza \\\n",
    "  --o-visualization classifytaxa.qzv \\\n",
    "  --verbose"
   ]
  },
  {
   "cell_type": "code",
   "execution_count": 94,
   "metadata": {
    "ExecuteTime": {
     "end_time": "2020-11-12T08:42:31.866172Z",
     "start_time": "2020-11-12T08:38:02.959799Z"
    },
    "run_control": {
     "marked": false
    }
   },
   "outputs": [
    {
     "name": "stdout",
     "output_type": "stream",
     "text": [
      "Press the 'q' key, Control-C, or Control-D to quit. This view may no longer be accessible or work correctly after quitting."
     ]
    }
   ],
   "source": [
    "qiime tools view regresstaxa.qzv"
   ]
  },
  {
   "cell_type": "code",
   "execution_count": 129,
   "metadata": {
    "ExecuteTime": {
     "end_time": "2020-11-12T09:42:25.709505Z",
     "start_time": "2020-11-12T09:40:55.073739Z"
    },
    "scrolled": true
   },
   "outputs": [
    {
     "name": "stdout",
     "output_type": "stream",
     "text": [
      "Press the 'q' key, Control-C, or Control-D to quit. This view may no longer be accessible or work correctly after quitting."
     ]
    }
   ],
   "source": [
    "qiime tools view classifytaxa.qzv"
   ]
  },
  {
   "cell_type": "markdown",
   "metadata": {},
   "source": [
    "Alternatively, one can drag&drop the file problemtaxa.qzv on : https://view.qiime2.org\n",
    "Thanks to this alternative, one can also track the workflow that the qiime2 artifact did. "
   ]
  }
 ],
 "metadata": {
  "kernelspec": {
   "display_name": "Bash",
   "language": "bash",
   "name": "bash"
  },
  "language_info": {
   "codemirror_mode": "shell",
   "file_extension": ".sh",
   "mimetype": "text/x-sh",
   "name": "bash"
  },
  "toc": {
   "base_numbering": 1,
   "nav_menu": {},
   "number_sections": true,
   "sideBar": true,
   "skip_h1_title": false,
   "title_cell": "Table of Contents",
   "title_sidebar": "Contents",
   "toc_cell": false,
   "toc_position": {},
   "toc_section_display": true,
   "toc_window_display": false
  }
 },
 "nbformat": 4,
 "nbformat_minor": 4
}
