{
 "cells": [
  {
   "cell_type": "markdown",
   "metadata": {
    "ExecuteTime": {
     "end_time": "2020-11-06T08:22:14.807224Z",
     "start_time": "2020-11-06T08:22:14.697114Z"
    }
   },
   "source": [
    "# QIIME 2 enables comprehensive end-to-end analysis of diverse microbiome data and comparative studies with publicly available data\n",
    "\n",
    "this is a QIIME 2 Artifact CLI notebook which replicated analyses in the QIIME 2 protocol\n",
    "\n",
    "**environment:** qiime2-2020.2"
   ]
  },
  {
   "cell_type": "code",
   "execution_count": null,
   "metadata": {
    "ExecuteTime": {
     "end_time": "2020-11-06T14:26:58.909571Z",
     "start_time": "2020-11-06T14:26:55.491846Z"
    },
    "deletable": false,
    "editable": false,
    "run_control": {
     "frozen": true
    }
   },
   "outputs": [],
   "source": [
    "pip install --upgrade c-lasso"
   ]
  },
  {
   "cell_type": "code",
   "execution_count": null,
   "metadata": {
    "ExecuteTime": {
     "end_time": "2020-11-06T09:11:30.793410Z",
     "start_time": "2020-11-06T09:11:27.713906Z"
    },
    "deletable": false,
    "editable": false,
    "run_control": {
     "frozen": true
    }
   },
   "outputs": [],
   "source": [
    "pip install c-lasso\n",
    "\n",
    "pip install zarr\n",
    "\n",
    "pip install plotly"
   ]
  },
  {
   "cell_type": "code",
   "execution_count": 2,
   "metadata": {
    "ExecuteTime": {
     "end_time": "2020-11-06T15:17:46.126384Z",
     "start_time": "2020-11-06T15:17:46.018052Z"
    }
   },
   "outputs": [],
   "source": [
    "cd .."
   ]
  },
  {
   "cell_type": "code",
   "execution_count": 5,
   "metadata": {
    "ExecuteTime": {
     "end_time": "2020-11-06T15:17:56.106004Z",
     "start_time": "2020-11-06T15:17:55.963436Z"
    }
   },
   "outputs": [
    {
     "name": "stdout",
     "output_type": "stream",
     "text": [
      "Figures\t\t\tgit.code-workspace\tq2-types\n",
      "IRP-framework\t\tq2-classo\n",
      "c-lasso\t\t\tq2-sample-classifier\n"
     ]
    }
   ],
   "source": [
    "ls"
   ]
  },
  {
   "cell_type": "code",
   "execution_count": null,
   "metadata": {
    "ExecuteTime": {
     "end_time": "2020-11-06T14:27:47.426157Z",
     "start_time": "2020-11-06T14:27:40.129399Z"
    },
    "deletable": false,
    "editable": false,
    "run_control": {
     "frozen": true
    }
   },
   "outputs": [],
   "source": [
    "python setup.py install\n",
    "\n",
    "pip install -e ."
   ]
  },
  {
   "cell_type": "code",
   "execution_count": 3,
   "metadata": {
    "ExecuteTime": {
     "end_time": "2020-11-06T14:30:45.808689Z",
     "start_time": "2020-11-06T14:30:39.073707Z"
    },
    "deletable": false,
    "editable": false,
    "run_control": {
     "frozen": true
    },
    "scrolled": true
   },
   "outputs": [
    {
     "name": "stdout",
     "output_type": "stream",
     "text": [
      "\u001b[33mQIIME is caching your current deployment for improved performance. This may take a few moments and should only happen once per deployment.\u001b[0m\n"
     ]
    }
   ],
   "source": [
    "qiime dev refresh-cache"
   ]
  },
  {
   "cell_type": "code",
   "execution_count": 6,
   "metadata": {
    "ExecuteTime": {
     "end_time": "2020-11-06T15:18:06.978944Z",
     "start_time": "2020-11-06T15:18:06.866560Z"
    }
   },
   "outputs": [],
   "source": [
    "cd q2-classo/example/Data"
   ]
  },
  {
   "cell_type": "markdown",
   "metadata": {},
   "source": [
    "## Upload data"
   ]
  },
  {
   "cell_type": "markdown",
   "metadata": {},
   "source": [
    "## Taxonomic classification"
   ]
  },
  {
   "cell_type": "markdown",
   "metadata": {},
   "source": [
    "## log-contrast processing"
   ]
  },
  {
   "cell_type": "code",
   "execution_count": 7,
   "metadata": {
    "ExecuteTime": {
     "end_time": "2020-11-06T15:18:27.410229Z",
     "start_time": "2020-11-06T15:18:08.259096Z"
    }
   },
   "outputs": [
    {
     "name": "stdout",
     "output_type": "stream",
     "text": [
      "\u001b[32mSaved FeatureTable[Design] to: xclr.qza\u001b[0m\n"
     ]
    }
   ],
   "source": [
    "qiime classo transform-features \\\n",
    "     --p-transformation clr \\\n",
    "     --p-coef 0.5 \\\n",
    "     --i-features table.qza \\\n",
    "     --o-x xclr"
   ]
  },
  {
   "cell_type": "markdown",
   "metadata": {},
   "source": [
    "## Tree aggregation"
   ]
  },
  {
   "cell_type": "code",
   "execution_count": 8,
   "metadata": {
    "ExecuteTime": {
     "end_time": "2020-11-06T15:18:37.981221Z",
     "start_time": "2020-11-06T15:18:27.413191Z"
    }
   },
   "outputs": [
    {
     "name": "stdout",
     "output_type": "stream",
     "text": [
      "\u001b[32mSaved FeatureTable[Design] to: xtaxa.qza\u001b[0m\n",
      "\u001b[32mSaved Weights to: wtaxa.qza\u001b[0m\n"
     ]
    }
   ],
   "source": [
    "qiime classo add-taxa \\\n",
    "\t--i-features xclr.qza  \\\n",
    "\t--i-taxa taxonomy.qza \\\n",
    "\t--o-x xtaxa --o-aweights wtaxa"
   ]
  },
  {
   "cell_type": "markdown",
   "metadata": {},
   "source": [
    "## Add covariates"
   ]
  },
  {
   "cell_type": "code",
   "execution_count": 9,
   "metadata": {
    "ExecuteTime": {
     "end_time": "2020-11-06T15:18:50.682414Z",
     "start_time": "2020-11-06T15:18:37.987107Z"
    },
    "scrolled": false
   },
   "outputs": [
    {
     "name": "stdout",
     "output_type": "stream",
     "text": [
      "\u001b[32mSaved FeatureTable[Design] to: xcovariates.qza\u001b[0m\n",
      "\u001b[32mSaved ConstraintMatrix to: ccovariates.qza\u001b[0m\n"
     ]
    }
   ],
   "source": [
    "qiime classo add-covariates \\\n",
    "    --i-features xtaxa.qza \\\n",
    "    --m-covariates-file sample-metadata-complete.tsv \\\n",
    "    --p-to-add host_body_mass_index host_age \\\n",
    "    --o-new-features xcovariates \\\n",
    "    --o-new-c ccovariates \\\n",
    "    --verbose"
   ]
  },
  {
   "cell_type": "markdown",
   "metadata": {},
   "source": [
    "## Split table"
   ]
  },
  {
   "cell_type": "markdown",
   "metadata": {},
   "source": [
    "Split data into training and testing sets : "
   ]
  },
  {
   "cell_type": "code",
   "execution_count": 10,
   "metadata": {
    "ExecuteTime": {
     "end_time": "2020-11-06T15:19:04.801377Z",
     "start_time": "2020-11-06T15:18:50.684626Z"
    }
   },
   "outputs": [
    {
     "name": "stdout",
     "output_type": "stream",
     "text": [
      "\u001b[32mSaved FeatureTable[Design] to: xtraining.qza\u001b[0m\n",
      "\u001b[32mSaved FeatureTable[Design] to: xtest.qza\u001b[0m\n"
     ]
    }
   ],
   "source": [
    "qiime sample-classifier split-table \\\n",
    "\t--i-table xtaxa.qza \\\n",
    "\t--m-metadata-file sample-metadata-complete.tsv \\\n",
    "\t--m-metadata-column sCD14  \\\n",
    "\t--p-test-size 0.2 \\\n",
    "\t--p-random-state 123 \\\n",
    "\t--p-stratify False \\\n",
    "\t--o-training-table xtraining \\\n",
    "\t--o-test-table xtest"
   ]
  },
  {
   "cell_type": "markdown",
   "metadata": {},
   "source": [
    "## Regression task "
   ]
  },
  {
   "cell_type": "markdown",
   "metadata": {},
   "source": [
    "Apply classo to the training set to solve the linear regression problem : "
   ]
  },
  {
   "cell_type": "code",
   "execution_count": 11,
   "metadata": {
    "ExecuteTime": {
     "end_time": "2020-11-06T15:20:10.023034Z",
     "start_time": "2020-11-06T15:19:04.803412Z"
    },
    "run_control": {
     "marked": false
    },
    "scrolled": true
   },
   "outputs": [
    {
     "name": "stdout",
     "output_type": "stream",
     "text": [
      "\u001b[32mSaved CLASSOProblem to: regresstaxa.qza\u001b[0m\n"
     ]
    }
   ],
   "source": [
    "qiime classo regress  \\\n",
    "    --i-features xtraining.qza \\\n",
    "    --i-weights wtaxa.qza \\\n",
    "    --m-y-file sample-metadata-complete.tsv \\\n",
    "    --m-y-column sCD14  \\\n",
    "    --p-concomitant False \\\n",
    "    --p-stabsel False \\\n",
    "    --p-cv True \\\n",
    "    --p-path True \\\n",
    "    --p-lamfixed True \\\n",
    "    --p-stabsel-threshold 0.5 \\\n",
    "    --p-cv-seed 1 \\\n",
    "    --p-cv-one-se False \\\n",
    "    --o-result regresstaxa"
   ]
  },
  {
   "cell_type": "markdown",
   "metadata": {},
   "source": [
    "## Classification task"
   ]
  },
  {
   "cell_type": "code",
   "execution_count": 20,
   "metadata": {
    "ExecuteTime": {
     "end_time": "2020-11-06T15:47:11.172059Z",
     "start_time": "2020-11-06T15:41:12.758235Z"
    },
    "scrolled": true
   },
   "outputs": [
    {
     "name": "stdout",
     "output_type": "stream",
     "text": [
      "129 156\n",
      "/Users/lsimpson/anaconda3/envs/qiime2-2020.11/lib/python3.6/zipfile.py:1378: UserWarning:\n",
      "\n",
      "Duplicate name: 'data/.zattrs'\n",
      "\n",
      "/Users/lsimpson/anaconda3/envs/qiime2-2020.11/lib/python3.6/zipfile.py:1378: UserWarning:\n",
      "\n",
      "Duplicate name: 'formulation/.zattrs'\n",
      "\n",
      "/Users/lsimpson/anaconda3/envs/qiime2-2020.11/lib/python3.6/zipfile.py:1378: UserWarning:\n",
      "\n",
      "Duplicate name: 'model_selection/PATHparameters/formulation/.zattrs'\n",
      "\n",
      "/Users/lsimpson/anaconda3/envs/qiime2-2020.11/lib/python3.6/zipfile.py:1378: UserWarning:\n",
      "\n",
      "Duplicate name: 'model_selection/PATHparameters/.zattrs'\n",
      "\n",
      "/Users/lsimpson/anaconda3/envs/qiime2-2020.11/lib/python3.6/zipfile.py:1378: UserWarning:\n",
      "\n",
      "Duplicate name: 'model_selection/.zattrs'\n",
      "\n",
      "/Users/lsimpson/anaconda3/envs/qiime2-2020.11/lib/python3.6/zipfile.py:1378: UserWarning:\n",
      "\n",
      "Duplicate name: 'model_selection/CVparameters/formulation/.zattrs'\n",
      "\n",
      "/Users/lsimpson/anaconda3/envs/qiime2-2020.11/lib/python3.6/zipfile.py:1378: UserWarning:\n",
      "\n",
      "Duplicate name: 'model_selection/CVparameters/.zattrs'\n",
      "\n",
      "/Users/lsimpson/anaconda3/envs/qiime2-2020.11/lib/python3.6/zipfile.py:1378: UserWarning:\n",
      "\n",
      "Duplicate name: 'model_selection/StabSelparameters/.zattrs'\n",
      "\n",
      "/Users/lsimpson/anaconda3/envs/qiime2-2020.11/lib/python3.6/zipfile.py:1378: UserWarning:\n",
      "\n",
      "Duplicate name: 'model_selection/LAMfixedparameters/formulation/.zattrs'\n",
      "\n",
      "/Users/lsimpson/anaconda3/envs/qiime2-2020.11/lib/python3.6/zipfile.py:1378: UserWarning:\n",
      "\n",
      "Duplicate name: 'model_selection/LAMfixedparameters/.zattrs'\n",
      "\n",
      "/Users/lsimpson/anaconda3/envs/qiime2-2020.11/lib/python3.6/zipfile.py:1378: UserWarning:\n",
      "\n",
      "Duplicate name: 'solution/PATH/formulation/.zattrs'\n",
      "\n",
      "/Users/lsimpson/anaconda3/envs/qiime2-2020.11/lib/python3.6/zipfile.py:1378: UserWarning:\n",
      "\n",
      "Duplicate name: 'solution/PATH/.zattrs'\n",
      "\n",
      "/Users/lsimpson/anaconda3/envs/qiime2-2020.11/lib/python3.6/zipfile.py:1378: UserWarning:\n",
      "\n",
      "Duplicate name: 'solution/CV/.zattrs'\n",
      "\n",
      "/Users/lsimpson/anaconda3/envs/qiime2-2020.11/lib/python3.6/zipfile.py:1378: UserWarning:\n",
      "\n",
      "Duplicate name: 'solution/CV/formulation/.zattrs'\n",
      "\n",
      "/Users/lsimpson/anaconda3/envs/qiime2-2020.11/lib/python3.6/zipfile.py:1378: UserWarning:\n",
      "\n",
      "Duplicate name: 'solution/LAMfixed/formulation/.zattrs'\n",
      "\n",
      "/Users/lsimpson/anaconda3/envs/qiime2-2020.11/lib/python3.6/zipfile.py:1378: UserWarning:\n",
      "\n",
      "Duplicate name: 'solution/LAMfixed/.zattrs'\n",
      "\n",
      "\u001b[32mSaved CLASSOProblem to: classifytaxa.qza\u001b[0m\n"
     ]
    }
   ],
   "source": [
    "qiime classo classify  \\\n",
    "    --i-features xtraining.qza \\\n",
    "    --i-weights wtaxa.qza \\\n",
    "    --m-y-file sample-metadata-complete.tsv \\\n",
    "    --m-y-column HIV_serostatus  \\\n",
    "    --p-stabsel False \\\n",
    "    --p-cv True \\\n",
    "    --p-path True \\\n",
    "    --p-lamfixed True \\\n",
    "    --p-stabsel-threshold 0.5 \\\n",
    "    --p-cv-seed 1 \\\n",
    "    --p-cv-one-se False \\\n",
    "    --o-result classifytaxa \\\n",
    "    --verbose"
   ]
  },
  {
   "cell_type": "markdown",
   "metadata": {},
   "source": [
    "## Prediction "
   ]
  },
  {
   "cell_type": "code",
   "execution_count": 13,
   "metadata": {
    "ExecuteTime": {
     "end_time": "2020-11-06T15:25:44.527846Z",
     "start_time": "2020-11-06T15:25:25.783077Z"
    }
   },
   "outputs": [
    {
     "name": "stdout",
     "output_type": "stream",
     "text": [
      "\u001b[32mSaved CLASSOProblem to: regress-predictions.qza\u001b[0m\n"
     ]
    }
   ],
   "source": [
    "qiime classo predict \\\n",
    "    --i-features xtest.qza \\\n",
    "    --i-problem regresstaxa.qza \\\n",
    "    --o-predictions regress-predictions.qza"
   ]
  },
  {
   "cell_type": "code",
   "execution_count": 14,
   "metadata": {
    "ExecuteTime": {
     "end_time": "2020-11-06T15:26:19.142391Z",
     "start_time": "2020-11-06T15:25:44.536337Z"
    }
   },
   "outputs": [
    {
     "name": "stdout",
     "output_type": "stream",
     "text": [
      "\u001b[32mSaved CLASSOProblem to: classify-predictions.qza\u001b[0m\n"
     ]
    }
   ],
   "source": [
    "qiime classo predict \\\n",
    "    --i-features xtest.qza \\\n",
    "    --i-problem classifytaxa.qza \\\n",
    "    --o-predictions classify-predictions.qza"
   ]
  },
  {
   "cell_type": "markdown",
   "metadata": {},
   "source": [
    "## Visualization"
   ]
  },
  {
   "cell_type": "code",
   "execution_count": 15,
   "metadata": {
    "ExecuteTime": {
     "end_time": "2020-11-06T15:27:01.294816Z",
     "start_time": "2020-11-06T15:26:19.145582Z"
    }
   },
   "outputs": [
    {
     "name": "stdout",
     "output_type": "stream",
     "text": [
      "\u001b[32mSaved Visualization to: regresstaxa.qzv\u001b[0m\n"
     ]
    }
   ],
   "source": [
    "qiime classo summarize \\\n",
    "  --i-problem regresstaxa.qza \\\n",
    "  --i-taxa taxonomy.qza \\\n",
    "  --i-predictions regress-predictions.qza \\\n",
    "  --o-visualization regresstaxa.qzv"
   ]
  },
  {
   "cell_type": "code",
   "execution_count": 16,
   "metadata": {
    "ExecuteTime": {
     "end_time": "2020-11-06T15:27:44.108378Z",
     "start_time": "2020-11-06T15:27:01.299156Z"
    }
   },
   "outputs": [
    {
     "name": "stdout",
     "output_type": "stream",
     "text": [
      "labels :  ['intercept' 'k__Bacteria' 'k__Archaea' ...\n",
      " '57f2c50cfb1e98bfb5ea39cc9f9e559a' '953235e90a7dfa91d15469b8de8ef422'\n",
      " '62a761d4144e1ab547dcc3d7589c4983']\n",
      "C= [[1. 1. 1. ... 1. 1. 1.]]\n",
      "weights :  [5.74712644e-04 5.00000000e-01 1.44508671e-03 ... 1.00000000e+00\n",
      " 1.00000000e+00 1.00000000e+00]\n",
      "pred 31 sample 31\n",
      "\u001b[32mSaved Visualization to: classifytaxa.qzv\u001b[0m\n"
     ]
    }
   ],
   "source": [
    "qiime classo summarize \\\n",
    "  --i-problem classifytaxa.qza \\\n",
    "  --i-taxa taxonomy.qza \\\n",
    "  --i-predictions classify-predictions.qza \\\n",
    "  --o-visualization classifytaxa.qzv"
   ]
  },
  {
   "cell_type": "code",
   "execution_count": 17,
   "metadata": {
    "ExecuteTime": {
     "end_time": "2020-11-06T15:31:29.258055Z",
     "start_time": "2020-11-06T15:27:44.115963Z"
    }
   },
   "outputs": [
    {
     "name": "stdout",
     "output_type": "stream",
     "text": [
      "Press the 'q' key, Control-C, or Control-D to quit. This view may no longer be accessible or work correctly after quitting."
     ]
    }
   ],
   "source": [
    "qiime tools view regresstaxa.qzv"
   ]
  },
  {
   "cell_type": "code",
   "execution_count": null,
   "metadata": {
    "ExecuteTime": {
     "start_time": "2020-11-06T15:48:30.639Z"
    }
   },
   "outputs": [],
   "source": [
    "qiime tools view classifytaxa.qzv"
   ]
  },
  {
   "cell_type": "markdown",
   "metadata": {},
   "source": [
    "Alternatively, one can drag&drop the file problemtaxa.qzv on : https://view.qiime2.org\n",
    "Thanks to this alternative, one can also track the workflow that the qiime2 artifact did. "
   ]
  }
 ],
 "metadata": {
  "kernelspec": {
   "display_name": "Bash",
   "language": "bash",
   "name": "bash"
  },
  "language_info": {
   "codemirror_mode": "shell",
   "file_extension": ".sh",
   "mimetype": "text/x-sh",
   "name": "bash"
  },
  "toc": {
   "base_numbering": 1,
   "nav_menu": {},
   "number_sections": true,
   "sideBar": true,
   "skip_h1_title": false,
   "title_cell": "Table of Contents",
   "title_sidebar": "Contents",
   "toc_cell": false,
   "toc_position": {},
   "toc_section_display": true,
   "toc_window_display": false
  }
 },
 "nbformat": 4,
 "nbformat_minor": 4
}
